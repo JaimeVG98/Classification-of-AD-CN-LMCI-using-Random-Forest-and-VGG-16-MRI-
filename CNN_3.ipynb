{
 "cells": [
  {
   "cell_type": "code",
   "execution_count": 1,
   "metadata": {},
   "outputs": [
    {
     "name": "stderr",
     "output_type": "stream",
     "text": [
      "Using TensorFlow backend.\n"
     ]
    }
   ],
   "source": [
    "import pandas as pd\n",
    "import os\n",
    "import cv2\n",
    "import numpy as np\n",
    "import random\n",
    "import matplotlib.pyplot as plt\n",
    "import tensorflow as tensorflow\n",
    "from tensorflow import keras\n",
    "from tqdm import tqdm\n",
    "import pickle\n",
    "from keras.models import Sequential\n",
    "from keras.layers import Activation\n",
    "from keras.layers import Dense, Flatten\n",
    "from keras.optimizers import Adam\n",
    "from keras.callbacks import TensorBoard, EarlyStopping\n",
    "import keras.optimizers\n",
    "from tensorflow.keras.models import Model\n",
    "from tensorflow.keras import layers\n",
    "from sklearn.metrics import accuracy_score, confusion_matrix, classification_report, ConfusionMatrixDisplay\n",
    "from keras.applications import vgg16\n",
    "from imblearn.over_sampling import SMOTE\n",
    "from sklearn.model_selection import train_test_split"
   ]
  },
  {
   "cell_type": "code",
   "execution_count": 2,
   "metadata": {},
   "outputs": [
    {
     "data": {
      "text/plain": [
       "'2.1.0'"
      ]
     },
     "execution_count": 2,
     "metadata": {},
     "output_type": "execute_result"
    }
   ],
   "source": [
    "tensorflow.__version__"
   ]
  },
  {
   "cell_type": "code",
   "execution_count": 3,
   "metadata": {},
   "outputs": [
    {
     "name": "stderr",
     "output_type": "stream",
     "text": [
      "100%|██████████| 1215/1215 [00:07<00:00, 158.48it/s]\n",
      "100%|██████████| 1323/1323 [00:07<00:00, 166.62it/s]\n",
      "100%|██████████| 1384/1384 [00:08<00:00, 164.57it/s]\n"
     ]
    },
    {
     "name": "stdout",
     "output_type": "stream",
     "text": [
      "3922\n",
      "train images\n",
      "\n",
      "(3922, 224, 224, 3)\n",
      "(3922,)\n"
     ]
    }
   ],
   "source": [
    "data_path = \"DATA_BASE\\DATA_BASE_TRAIN_LARGER\\IMAGES_PRESPROCESSED_LARGER\\CLEAN\"\n",
    "img_size = 224\n",
    "#categories = [\"AD\", \"CN\", \"LMCI\"]\n",
    "categories = [\"AD\", \"CN\", \"LMCI\"]\n",
    "\n",
    "data = []\n",
    "\n",
    "def creating_data():\n",
    "    for category in categories:\n",
    "        path = os.path.join(data_path,category)\n",
    "        class_num = categories.index(category)\n",
    "        for img in tqdm(os.listdir(path)):\n",
    "            img_array = cv2.imread(os.path.join(path, img) , cv2.IMREAD_COLOR)\n",
    "            new_array = cv2.resize(img_array, (img_size, img_size))\n",
    "            data.append([new_array, class_num])\n",
    "\n",
    "    random.shuffle(data)\n",
    "\n",
    "creating_data()\n",
    "print(len(data))\n",
    "\n",
    "print(\"train images\")\n",
    "print()\n",
    "X_train = np.array([i[0] for i in data]).reshape(-1,img_size,img_size,3)\n",
    "Y_train = np.array([i[1] for i in data])\n",
    "\n",
    "#X_train, X_test, y_train, y_test = train_test_split(X_train, Y_train, test_size=0.15, random_state=42)\n",
    "\n",
    "pickle_out = open(\"X_train.pickle\",\"wb\")\n",
    "pickle.dump(X_train, pickle_out)\n",
    "pickle_out.close()\n",
    "\n",
    "pickle_out = open(\"Y_train.pickle\",\"wb\")\n",
    "pickle.dump(Y_train, pickle_out)\n",
    "pickle_out.close()\n",
    "print(X_train.shape)\n",
    "print(Y_train.shape)"
   ]
  },
  {
   "cell_type": "code",
   "execution_count": null,
   "metadata": {},
   "outputs": [
    {
     "name": "stderr",
     "output_type": "stream",
     "text": [
      "100%|██████████| 291/291 [00:01<00:00, 160.24it/s]\n",
      "100%|██████████| 276/276 [00:01<00:00, 163.58it/s]\n",
      "100%|██████████| 273/273 [00:01<00:00, 159.41it/s]\n"
     ]
    },
    {
     "name": "stdout",
     "output_type": "stream",
     "text": [
      "840\n",
      "test images\n",
      "\n",
      "(840, 224, 224, 3)\n",
      "(840,)\n"
     ]
    }
   ],
   "source": [
    "data_path_test = \"DATA_BASE\\DATA_BASE_TEST\\IMAGES_PREPROCESSED_TEST\\CLEAN\"\n",
    "img_size = 224\n",
    "categories = [\"AD\", \"CN\", \"LMCI\"]\n",
    "#categories = [\"CN\", \"LMCI\"]\n",
    "\n",
    "\n",
    "data_test = []\n",
    "\n",
    "def creating_data_test():\n",
    "    for category in categories:\n",
    "        path = os.path.join(data_path_test,category)\n",
    "        class_num = categories.index(category)\n",
    "        for img in tqdm(os.listdir(path)):\n",
    "            img_array = cv2.imread(os.path.join(path, img) , cv2.IMREAD_COLOR)\n",
    "            new_array = cv2.resize(img_array, (img_size, img_size))\n",
    "            data_test.append([new_array, class_num])\n",
    "\n",
    "    random.shuffle(data_test)\n",
    "\n",
    "creating_data_test()\n",
    "print(len(data_test))\n",
    "\n",
    "print(\"test images\")\n",
    "print()\n",
    "X_test = np.array([i[0] for i in data_test]).reshape(-1,img_size,img_size,3)\n",
    "Y_test = np.array([i[1] for i in data_test])\n",
    "\n",
    "#X_train, X_test, y_train, y_test = train_test_split(X_train, Y_train, test_size=0.15, random_state=42)\n",
    "\n",
    "pickle_out = open(\"X_test.pickle\",\"wb\")\n",
    "pickle.dump(X_test, pickle_out)\n",
    "pickle_out.close()\n",
    "\n",
    "pickle_out = open(\"Y_test.pickle\",\"wb\")\n",
    "pickle.dump(Y_test, pickle_out)\n",
    "pickle_out.close()\n",
    "print(X_test.shape)\n",
    "print(Y_test.shape)"
   ]
  },
  {
   "cell_type": "code",
   "execution_count": 5,
   "metadata": {},
   "outputs": [],
   "source": [
    "from tensorflow.python.client import device_lib"
   ]
  },
  {
   "cell_type": "code",
   "execution_count": null,
   "metadata": {},
   "outputs": [],
   "source": []
  },
  {
   "cell_type": "code",
   "execution_count": 6,
   "metadata": {},
   "outputs": [
    {
     "data": {
      "text/plain": [
       "[name: \"/device:CPU:0\"\n",
       " device_type: \"CPU\"\n",
       " memory_limit: 268435456\n",
       " locality {\n",
       " }\n",
       " incarnation: 16694197514073564903,\n",
       " name: \"/device:GPU:0\"\n",
       " device_type: \"GPU\"\n",
       " memory_limit: 4963958784\n",
       " locality {\n",
       "   bus_id: 1\n",
       "   links {\n",
       "   }\n",
       " }\n",
       " incarnation: 12340249509312465522\n",
       " physical_device_desc: \"device: 0, name: NVIDIA GeForce GTX 1660 SUPER, pci bus id: 0000:01:00.0, compute capability: 7.5\"]"
      ]
     },
     "execution_count": 6,
     "metadata": {},
     "output_type": "execute_result"
    }
   ],
   "source": [
    "# List available GPU devices\n",
    "physical_devices = tensorflow.config.list_physical_devices('GPU')\n",
    "if physical_devices:\n",
    "    try:\n",
    "        # Set memory growth for the first GPU device\n",
    "        tensorflow.config.set_logical_device_configuration(\n",
    "            physical_devices[0],\n",
    "            [tensorflow.config.LogicalDeviceConfiguration(memory_limit=4096)]\n",
    "        )\n",
    "        #tensorflow.config.experimental.set_memory_growth(physical_devices[0], True)\n",
    "        #print(\"Memory growth enabled for GPU\")\n",
    "    except RuntimeError as e:\n",
    "        # Memory growth must be set before any initialization\n",
    "        print(e)\n",
    "else:\n",
    "    print(\"No GPU found\")\n",
    "\n",
    "\n",
    "# Enable GPU memory growth to avoid memory allocation errors\n",
    "physical_devices = tensorflow.config.list_physical_devices('GPU')\n",
    "#tensorflow.config.experimental.set_memory_growth(physical_devices[0], True)\n",
    "\n",
    "\n",
    "\n",
    "device_lib.list_local_devices()"
   ]
  },
  {
   "cell_type": "code",
   "execution_count": 7,
   "metadata": {},
   "outputs": [],
   "source": [
    "tensorboard = TensorBoard(log_dir='./VGG16logs', histogram_freq=0,\n",
    "                          write_graph=True, write_images=False)\n",
    "es = EarlyStopping(monitor='val_loss', mode='min', verbose=1, patience=5)"
   ]
  },
  {
   "cell_type": "code",
   "execution_count": 8,
   "metadata": {},
   "outputs": [],
   "source": [
    "from tensorflow.keras.applications import VGG16"
   ]
  },
  {
   "cell_type": "code",
   "execution_count": 9,
   "metadata": {},
   "outputs": [
    {
     "name": "stdout",
     "output_type": "stream",
     "text": [
      "Model: \"model\"\n",
      "_________________________________________________________________\n",
      "Layer (type)                 Output Shape              Param #   \n",
      "=================================================================\n",
      "input_2 (InputLayer)         [(None, 224, 224, 3)]     0         \n",
      "_________________________________________________________________\n",
      "vgg16 (Model)                (None, 7, 7, 512)         14714688  \n",
      "_________________________________________________________________\n",
      "global_average_pooling2d (Gl (None, 512)               0         \n",
      "_________________________________________________________________\n",
      "dropout (Dropout)            (None, 512)               0         \n",
      "_________________________________________________________________\n",
      "dense (Dense)                (None, 3)                 1539      \n",
      "=================================================================\n",
      "Total params: 14,716,227\n",
      "Trainable params: 1,539\n",
      "Non-trainable params: 14,714,688\n",
      "_________________________________________________________________\n",
      "<class 'tensorflow.python.keras.engine.training.Model'>\n"
     ]
    }
   ],
   "source": [
    "\n",
    "# Load the VGG16 base model\n",
    "vgg16_base_model = VGG16(input_shape=(224, 224, 3), include_top=False, weights='imagenet')\n",
    "vgg16_base_model.trainable = False  # Freeze the base model\n",
    "\n",
    "# Define the input layer\n",
    "inputs = tensorflow.keras.Input(shape=(224, 224, 3))\n",
    "\n",
    "# Extract features using the base model\n",
    "features_extracted = vgg16_base_model(inputs)\n",
    "\n",
    "# Apply global average pooling\n",
    "avg_pooling = layers.GlobalAveragePooling2D()(features_extracted)\n",
    "\n",
    "# Add Dropout for regularization\n",
    "dropout = layers.Dropout(0.5)(avg_pooling)\n",
    "\n",
    "# Add the final Dense layer for classification\n",
    "outputs = layers.Dense(3, activation='softmax')(dropout)\n",
    "\n",
    "# Create the final model\n",
    "final_model = Model(inputs, outputs)\n",
    "\n",
    "# Print the model summary\n",
    "final_model.summary()\n",
    "\n",
    "# Check the type of the model\n",
    "print(type(final_model))"
   ]
  },
  {
   "cell_type": "code",
   "execution_count": 10,
   "metadata": {},
   "outputs": [],
   "source": [
    "X_train = X_train / 255.0\n",
    "X_test = X_test / 255.0"
   ]
  },
  {
   "cell_type": "code",
   "execution_count": 11,
   "metadata": {},
   "outputs": [
    {
     "name": "stdout",
     "output_type": "stream",
     "text": [
      "Number of layers in the base model:  19\n",
      "['input_1', 'block1_conv1', 'block1_conv2', 'block1_pool', 'block2_conv1', 'block2_conv2', 'block2_pool', 'block3_conv1', 'block3_conv2', 'block3_conv3', 'block3_pool', 'block4_conv1', 'block4_conv2', 'block4_conv3', 'block4_pool', 'block5_conv1', 'block5_conv2', 'block5_conv3', 'block5_pool']\n"
     ]
    }
   ],
   "source": [
    "# how many layers are in the base model?\n",
    "print(\"Number of layers in the base model: \", len(vgg16_base_model.layers))\n",
    "\n",
    "vgg16_layers = [layer.name for layer in vgg16_base_model.layers]\n",
    "print(vgg16_layers)"
   ]
  },
  {
   "cell_type": "code",
   "execution_count": 12,
   "metadata": {},
   "outputs": [
    {
     "name": "stdout",
     "output_type": "stream",
     "text": [
      "Model: \"model\"\n",
      "_________________________________________________________________\n",
      "Layer (type)                 Output Shape              Param #   \n",
      "=================================================================\n",
      "input_2 (InputLayer)         [(None, 224, 224, 3)]     0         \n",
      "_________________________________________________________________\n",
      "vgg16 (Model)                (None, 7, 7, 512)         14714688  \n",
      "_________________________________________________________________\n",
      "global_average_pooling2d (Gl (None, 512)               0         \n",
      "_________________________________________________________________\n",
      "dropout (Dropout)            (None, 512)               0         \n",
      "_________________________________________________________________\n",
      "dense (Dense)                (None, 3)                 1539      \n",
      "=================================================================\n",
      "Total params: 14,716,227\n",
      "Trainable params: 1,539\n",
      "Non-trainable params: 14,714,688\n",
      "_________________________________________________________________\n"
     ]
    }
   ],
   "source": [
    "optimizer = tensorflow.keras.optimizers.Adam(learning_rate=1e-4)\n",
    "final_model.compile(optimizer=optimizer, loss=\"sparse_categorical_crossentropy\", metrics=['accuracy'])\n",
    "final_model.summary()"
   ]
  },
  {
   "cell_type": "code",
   "execution_count": 13,
   "metadata": {},
   "outputs": [
    {
     "name": "stdout",
     "output_type": "stream",
     "text": [
      "Train on 3922 samples, validate on 840 samples\n",
      "Epoch 1/50\n",
      "3922/3922 [==============================] - 48s 12ms/sample - loss: 1.2347 - accuracy: 0.3246 - val_loss: 1.1136 - val_accuracy: 0.2905\n",
      "Epoch 2/50\n",
      "3922/3922 [==============================] - 32s 8ms/sample - loss: 1.1932 - accuracy: 0.3276 - val_loss: 1.1032 - val_accuracy: 0.2905\n",
      "Epoch 3/50\n",
      "3922/3922 [==============================] - 34s 9ms/sample - loss: 1.1739 - accuracy: 0.3470 - val_loss: 1.1020 - val_accuracy: 0.2333\n",
      "Epoch 4/50\n",
      "3922/3922 [==============================] - 34s 9ms/sample - loss: 1.1691 - accuracy: 0.3386 - val_loss: 1.1014 - val_accuracy: 0.2321\n",
      "Epoch 5/50\n",
      "3922/3922 [==============================] - 34s 9ms/sample - loss: 1.1700 - accuracy: 0.3434 - val_loss: 1.0992 - val_accuracy: 0.2440\n",
      "Epoch 6/50\n",
      "3922/3922 [==============================] - 35s 9ms/sample - loss: 1.1548 - accuracy: 0.3529 - val_loss: 1.0978 - val_accuracy: 0.2488\n",
      "Epoch 7/50\n",
      "3922/3922 [==============================] - 35s 9ms/sample - loss: 1.1396 - accuracy: 0.3677 - val_loss: 1.0970 - val_accuracy: 0.2488\n",
      "Epoch 8/50\n",
      "3922/3922 [==============================] - 34s 9ms/sample - loss: 1.1399 - accuracy: 0.3575 - val_loss: 1.0954 - val_accuracy: 0.2667\n",
      "Epoch 9/50\n",
      "3922/3922 [==============================] - 35s 9ms/sample - loss: 1.1455 - accuracy: 0.3491 - val_loss: 1.0941 - val_accuracy: 0.2702\n",
      "Epoch 10/50\n",
      "3922/3922 [==============================] - 34s 9ms/sample - loss: 1.1242 - accuracy: 0.3626 - val_loss: 1.0935 - val_accuracy: 0.2833\n",
      "Epoch 11/50\n",
      "3922/3922 [==============================] - 34s 9ms/sample - loss: 1.1100 - accuracy: 0.3707 - val_loss: 1.0919 - val_accuracy: 0.2857\n",
      "Epoch 12/50\n",
      "3922/3922 [==============================] - 34s 9ms/sample - loss: 1.1105 - accuracy: 0.3730 - val_loss: 1.0905 - val_accuracy: 0.3119\n",
      "Epoch 13/50\n",
      "3922/3922 [==============================] - 33s 9ms/sample - loss: 1.1068 - accuracy: 0.3797 - val_loss: 1.0888 - val_accuracy: 0.3119\n",
      "Epoch 14/50\n",
      "3922/3922 [==============================] - 33s 9ms/sample - loss: 1.1041 - accuracy: 0.3865 - val_loss: 1.0874 - val_accuracy: 0.3107\n",
      "Epoch 15/50\n",
      "3922/3922 [==============================] - 33s 8ms/sample - loss: 1.0983 - accuracy: 0.3781 - val_loss: 1.0855 - val_accuracy: 0.3143\n",
      "Epoch 16/50\n",
      "3922/3922 [==============================] - 33s 8ms/sample - loss: 1.0914 - accuracy: 0.3934 - val_loss: 1.0847 - val_accuracy: 0.3238\n",
      "Epoch 17/50\n",
      "3922/3922 [==============================] - 28s 7ms/sample - loss: 1.0891 - accuracy: 0.4001 - val_loss: 1.0845 - val_accuracy: 0.3119\n",
      "Epoch 18/50\n",
      "3922/3922 [==============================] - 33s 9ms/sample - loss: 1.0901 - accuracy: 0.3870 - val_loss: 1.0824 - val_accuracy: 0.3298\n",
      "Epoch 19/50\n",
      "3922/3922 [==============================] - 34s 9ms/sample - loss: 1.0702 - accuracy: 0.4263 - val_loss: 1.0817 - val_accuracy: 0.3167\n",
      "Epoch 20/50\n",
      "3922/3922 [==============================] - 34s 9ms/sample - loss: 1.0773 - accuracy: 0.4023 - val_loss: 1.0815 - val_accuracy: 0.3143\n",
      "Epoch 21/50\n",
      "3922/3922 [==============================] - 34s 9ms/sample - loss: 1.0766 - accuracy: 0.4105 - val_loss: 1.0790 - val_accuracy: 0.3369\n",
      "Epoch 22/50\n",
      "3922/3922 [==============================] - 34s 9ms/sample - loss: 1.0668 - accuracy: 0.4245 - val_loss: 1.0787 - val_accuracy: 0.3298\n",
      "Epoch 23/50\n",
      "3922/3922 [==============================] - 34s 9ms/sample - loss: 1.0667 - accuracy: 0.4230 - val_loss: 1.0775 - val_accuracy: 0.3310\n",
      "Epoch 24/50\n",
      "3922/3922 [==============================] - 37s 10ms/sample - loss: 1.0679 - accuracy: 0.4143 - val_loss: 1.0773 - val_accuracy: 0.3202\n",
      "Epoch 25/50\n",
      "3922/3922 [==============================] - 33s 8ms/sample - loss: 1.0599 - accuracy: 0.4240 - val_loss: 1.0754 - val_accuracy: 0.3452\n",
      "Epoch 26/50\n",
      "3922/3922 [==============================] - 34s 9ms/sample - loss: 1.0570 - accuracy: 0.4225 - val_loss: 1.0745 - val_accuracy: 0.3429\n",
      "Epoch 27/50\n",
      "3922/3922 [==============================] - 34s 9ms/sample - loss: 1.0495 - accuracy: 0.4426 - val_loss: 1.0726 - val_accuracy: 0.3631\n",
      "Epoch 28/50\n",
      "3922/3922 [==============================] - 34s 9ms/sample - loss: 1.0517 - accuracy: 0.4375 - val_loss: 1.0723 - val_accuracy: 0.3417\n",
      "Epoch 29/50\n",
      "3922/3922 [==============================] - 29s 7ms/sample - loss: 1.0429 - accuracy: 0.4477 - val_loss: 1.0721 - val_accuracy: 0.3452\n",
      "Epoch 30/50\n",
      "3922/3922 [==============================] - 29s 7ms/sample - loss: 1.0463 - accuracy: 0.4454 - val_loss: 1.0695 - val_accuracy: 0.3976\n",
      "Epoch 31/50\n",
      "3922/3922 [==============================] - 29s 7ms/sample - loss: 1.0463 - accuracy: 0.4396 - val_loss: 1.0701 - val_accuracy: 0.3488\n",
      "Epoch 32/50\n",
      "3922/3922 [==============================] - 29s 7ms/sample - loss: 1.0367 - accuracy: 0.4544 - val_loss: 1.0700 - val_accuracy: 0.3417\n",
      "Epoch 33/50\n",
      "3922/3922 [==============================] - 29s 7ms/sample - loss: 1.0375 - accuracy: 0.4635 - val_loss: 1.0674 - val_accuracy: 0.3702\n",
      "Epoch 34/50\n",
      "3922/3922 [==============================] - 29s 7ms/sample - loss: 1.0331 - accuracy: 0.4605 - val_loss: 1.0670 - val_accuracy: 0.3607\n",
      "Epoch 35/50\n",
      "3922/3922 [==============================] - 29s 7ms/sample - loss: 1.0343 - accuracy: 0.4625 - val_loss: 1.0653 - val_accuracy: 0.3988\n",
      "Epoch 36/50\n",
      "3922/3922 [==============================] - 29s 7ms/sample - loss: 1.0318 - accuracy: 0.4620 - val_loss: 1.0650 - val_accuracy: 0.3893\n",
      "Epoch 37/50\n",
      "3922/3922 [==============================] - 29s 7ms/sample - loss: 1.0253 - accuracy: 0.4691 - val_loss: 1.0639 - val_accuracy: 0.3976\n",
      "Epoch 38/50\n",
      "3922/3922 [==============================] - 29s 7ms/sample - loss: 1.0249 - accuracy: 0.4725 - val_loss: 1.0630 - val_accuracy: 0.3952\n",
      "Epoch 39/50\n",
      "3922/3922 [==============================] - 29s 7ms/sample - loss: 1.0291 - accuracy: 0.4633 - val_loss: 1.0626 - val_accuracy: 0.3976\n",
      "Epoch 40/50\n",
      "3922/3922 [==============================] - 29s 7ms/sample - loss: 1.0178 - accuracy: 0.4768 - val_loss: 1.0610 - val_accuracy: 0.4083\n",
      "Epoch 41/50\n",
      "3922/3922 [==============================] - 29s 7ms/sample - loss: 1.0224 - accuracy: 0.4735 - val_loss: 1.0605 - val_accuracy: 0.3964\n",
      "Epoch 42/50\n",
      "3922/3922 [==============================] - 29s 7ms/sample - loss: 1.0207 - accuracy: 0.4771 - val_loss: 1.0592 - val_accuracy: 0.4107\n",
      "Epoch 43/50\n",
      "3922/3922 [==============================] - 29s 7ms/sample - loss: 1.0148 - accuracy: 0.4788 - val_loss: 1.0581 - val_accuracy: 0.4214\n",
      "Epoch 44/50\n",
      "3922/3922 [==============================] - 29s 7ms/sample - loss: 1.0132 - accuracy: 0.4837 - val_loss: 1.0577 - val_accuracy: 0.4083\n",
      "Epoch 45/50\n",
      "3922/3922 [==============================] - 29s 7ms/sample - loss: 1.0157 - accuracy: 0.4814 - val_loss: 1.0567 - val_accuracy: 0.4095\n",
      "Epoch 46/50\n",
      "3922/3922 [==============================] - 29s 7ms/sample - loss: 1.0186 - accuracy: 0.4791 - val_loss: 1.0557 - val_accuracy: 0.4286\n",
      "Epoch 47/50\n",
      "3922/3922 [==============================] - 29s 7ms/sample - loss: 1.0149 - accuracy: 0.4903 - val_loss: 1.0549 - val_accuracy: 0.4202\n",
      "Epoch 48/50\n",
      "3922/3922 [==============================] - 29s 7ms/sample - loss: 1.0153 - accuracy: 0.4829 - val_loss: 1.0541 - val_accuracy: 0.4298\n",
      "Epoch 49/50\n",
      "3922/3922 [==============================] - 29s 7ms/sample - loss: 1.0093 - accuracy: 0.4936 - val_loss: 1.0528 - val_accuracy: 0.4488\n",
      "Epoch 50/50\n",
      "3922/3922 [==============================] - 29s 7ms/sample - loss: 1.0063 - accuracy: 0.4990 - val_loss: 1.0520 - val_accuracy: 0.4524\n"
     ]
    }
   ],
   "source": [
    "history_fine0 = final_model.fit(X_train, Y_train, batch_size=64, epochs=50, validation_data=(X_test, Y_test))"
   ]
  },
  {
   "cell_type": "code",
   "execution_count": 14,
   "metadata": {},
   "outputs": [],
   "source": [
    "# swithcing on all layers to be trainable\n",
    "vgg16_base_model.trainable = True\n",
    "\n",
    "# swithcing off(freezing) all layers except the last 4 layers\n",
    "fine_tune_last = 4\n",
    "for layer in vgg16_base_model.layers[:-fine_tune_last]:\n",
    "    layer.trainable = False"
   ]
  },
  {
   "cell_type": "code",
   "execution_count": 15,
   "metadata": {},
   "outputs": [],
   "source": [
    "optimizer = tensorflow.keras.optimizers.Adam(learning_rate=1e-4)\n",
    "final_model.compile(optimizer=optimizer, loss=\"sparse_categorical_crossentropy\", metrics=['accuracy'])"
   ]
  },
  {
   "cell_type": "code",
   "execution_count": 16,
   "metadata": {},
   "outputs": [
    {
     "name": "stdout",
     "output_type": "stream",
     "text": [
      "Model: \"model\"\n",
      "_________________________________________________________________\n",
      "Layer (type)                 Output Shape              Param #   \n",
      "=================================================================\n",
      "input_2 (InputLayer)         [(None, 224, 224, 3)]     0         \n",
      "_________________________________________________________________\n",
      "vgg16 (Model)                (None, 7, 7, 512)         14714688  \n",
      "_________________________________________________________________\n",
      "global_average_pooling2d (Gl (None, 512)               0         \n",
      "_________________________________________________________________\n",
      "dropout (Dropout)            (None, 512)               0         \n",
      "_________________________________________________________________\n",
      "dense (Dense)                (None, 3)                 1539      \n",
      "=================================================================\n",
      "Total params: 14,716,227\n",
      "Trainable params: 7,080,963\n",
      "Non-trainable params: 7,635,264\n",
      "_________________________________________________________________\n"
     ]
    }
   ],
   "source": [
    "final_model.summary()"
   ]
  },
  {
   "cell_type": "code",
   "execution_count": 17,
   "metadata": {},
   "outputs": [
    {
     "name": "stdout",
     "output_type": "stream",
     "text": [
      "Train on 3922 samples, validate on 840 samples\n",
      "Epoch 1/50\n",
      "3922/3922 [==============================] - 33s 8ms/sample - loss: 0.7997 - accuracy: 0.6336 - val_loss: 0.8433 - val_accuracy: 0.6298\n",
      "Epoch 2/50\n",
      "3922/3922 [==============================] - 32s 8ms/sample - loss: 0.2985 - accuracy: 0.8980 - val_loss: 0.9860 - val_accuracy: 0.6250\n",
      "Epoch 3/50\n",
      "3922/3922 [==============================] - 32s 8ms/sample - loss: 0.0797 - accuracy: 0.9799 - val_loss: 0.9379 - val_accuracy: 0.6619\n",
      "Epoch 4/50\n",
      "3922/3922 [==============================] - 32s 8ms/sample - loss: 0.0453 - accuracy: 0.9878 - val_loss: 1.4455 - val_accuracy: 0.6274\n",
      "Epoch 5/50\n",
      "3922/3922 [==============================] - 32s 8ms/sample - loss: 0.0105 - accuracy: 0.9987 - val_loss: 1.2279 - val_accuracy: 0.6571\n",
      "Epoch 6/50\n",
      "3922/3922 [==============================] - 30s 8ms/sample - loss: 0.0055 - accuracy: 0.9995 - val_loss: 1.2149 - val_accuracy: 0.6631\n",
      "Epoch 7/50\n",
      "3922/3922 [==============================] - 27s 7ms/sample - loss: 0.0022 - accuracy: 1.0000 - val_loss: 1.4559 - val_accuracy: 0.6464\n",
      "Epoch 8/50\n",
      "3922/3922 [==============================] - 27s 7ms/sample - loss: 0.0024 - accuracy: 1.0000 - val_loss: 1.1547 - val_accuracy: 0.6893\n",
      "Epoch 9/50\n",
      "3922/3922 [==============================] - 27s 7ms/sample - loss: 0.0027 - accuracy: 1.0000 - val_loss: 1.4056 - val_accuracy: 0.6714\n",
      "Epoch 10/50\n",
      "3922/3922 [==============================] - 37s 9ms/sample - loss: 0.0083 - accuracy: 0.9977 - val_loss: 1.4800 - val_accuracy: 0.6476\n",
      "Epoch 11/50\n",
      "3922/3922 [==============================] - 33s 8ms/sample - loss: 0.0210 - accuracy: 0.9934 - val_loss: 1.3814 - val_accuracy: 0.6714\n",
      "Epoch 12/50\n",
      "3922/3922 [==============================] - 38s 10ms/sample - loss: 0.0018 - accuracy: 1.0000 - val_loss: 1.4732 - val_accuracy: 0.6655\n",
      "Epoch 13/50\n",
      "3922/3922 [==============================] - 38s 10ms/sample - loss: 6.5026e-04 - accuracy: 1.0000 - val_loss: 1.3473 - val_accuracy: 0.6821\n",
      "Epoch 14/50\n",
      "3922/3922 [==============================] - 38s 10ms/sample - loss: 2.5907e-04 - accuracy: 1.0000 - val_loss: 1.3852 - val_accuracy: 0.6905\n",
      "Epoch 15/50\n",
      "3922/3922 [==============================] - 38s 10ms/sample - loss: 2.2683e-04 - accuracy: 1.0000 - val_loss: 1.6055 - val_accuracy: 0.6679\n",
      "Epoch 16/50\n",
      "3922/3922 [==============================] - 38s 10ms/sample - loss: 1.5656e-04 - accuracy: 1.0000 - val_loss: 1.5306 - val_accuracy: 0.6810\n",
      "Epoch 17/50\n",
      "3922/3922 [==============================] - 38s 10ms/sample - loss: 3.1227e-04 - accuracy: 1.0000 - val_loss: 1.5020 - val_accuracy: 0.6893\n",
      "Epoch 18/50\n",
      "3922/3922 [==============================] - 38s 10ms/sample - loss: 1.1953e-04 - accuracy: 1.0000 - val_loss: 1.5755 - val_accuracy: 0.6750\n",
      "Epoch 19/50\n",
      "3922/3922 [==============================] - 37s 9ms/sample - loss: 2.5422e-04 - accuracy: 1.0000 - val_loss: 1.7163 - val_accuracy: 0.6607\n",
      "Epoch 20/50\n",
      "3922/3922 [==============================] - 39s 10ms/sample - loss: 1.0778e-04 - accuracy: 1.0000 - val_loss: 1.6308 - val_accuracy: 0.6726\n",
      "Epoch 21/50\n",
      "3922/3922 [==============================] - 38s 10ms/sample - loss: 9.3177e-05 - accuracy: 1.0000 - val_loss: 1.6251 - val_accuracy: 0.6762\n",
      "Epoch 22/50\n",
      "3922/3922 [==============================] - 39s 10ms/sample - loss: 4.0494e-04 - accuracy: 1.0000 - val_loss: 1.8767 - val_accuracy: 0.6714\n",
      "Epoch 23/50\n",
      "3922/3922 [==============================] - 38s 10ms/sample - loss: 1.8646e-04 - accuracy: 1.0000 - val_loss: 1.6281 - val_accuracy: 0.6738\n",
      "Epoch 24/50\n",
      "3922/3922 [==============================] - 33s 9ms/sample - loss: 6.5446e-05 - accuracy: 1.0000 - val_loss: 1.7019 - val_accuracy: 0.6595\n",
      "Epoch 25/50\n",
      "3922/3922 [==============================] - 36s 9ms/sample - loss: 5.6018e-05 - accuracy: 1.0000 - val_loss: 1.6536 - val_accuracy: 0.6655\n",
      "Epoch 26/50\n",
      "3922/3922 [==============================] - 37s 9ms/sample - loss: 6.5323e-05 - accuracy: 1.0000 - val_loss: 1.8641 - val_accuracy: 0.6643\n",
      "Epoch 27/50\n",
      "3922/3922 [==============================] - 37s 9ms/sample - loss: 6.9315e-05 - accuracy: 1.0000 - val_loss: 1.7106 - val_accuracy: 0.6750\n",
      "Epoch 28/50\n",
      "3922/3922 [==============================] - 37s 9ms/sample - loss: 3.8180e-05 - accuracy: 1.0000 - val_loss: 1.7223 - val_accuracy: 0.6679\n",
      "Epoch 29/50\n",
      "3922/3922 [==============================] - 37s 9ms/sample - loss: 3.3399e-05 - accuracy: 1.0000 - val_loss: 1.7203 - val_accuracy: 0.6702\n",
      "Epoch 30/50\n",
      "3922/3922 [==============================] - 37s 9ms/sample - loss: 3.6519e-05 - accuracy: 1.0000 - val_loss: 1.7237 - val_accuracy: 0.6810\n",
      "Epoch 31/50\n",
      "3922/3922 [==============================] - 37s 10ms/sample - loss: 3.0366e-05 - accuracy: 1.0000 - val_loss: 1.7787 - val_accuracy: 0.6667\n",
      "Epoch 32/50\n",
      "3922/3922 [==============================] - 37s 9ms/sample - loss: 5.3214e-05 - accuracy: 1.0000 - val_loss: 1.7413 - val_accuracy: 0.6774\n",
      "Epoch 33/50\n",
      "3922/3922 [==============================] - 37s 9ms/sample - loss: 3.0774e-05 - accuracy: 1.0000 - val_loss: 1.7812 - val_accuracy: 0.6786\n",
      "Epoch 34/50\n",
      "3922/3922 [==============================] - 37s 9ms/sample - loss: 5.4027e-05 - accuracy: 1.0000 - val_loss: 1.8773 - val_accuracy: 0.6762\n",
      "Epoch 35/50\n",
      "3922/3922 [==============================] - 37s 9ms/sample - loss: 2.0286e-05 - accuracy: 1.0000 - val_loss: 1.7416 - val_accuracy: 0.6726\n",
      "Epoch 36/50\n",
      "3922/3922 [==============================] - 37s 9ms/sample - loss: 3.6687e-05 - accuracy: 1.0000 - val_loss: 1.7580 - val_accuracy: 0.6762\n",
      "Epoch 37/50\n",
      "3922/3922 [==============================] - 37s 9ms/sample - loss: 2.0073e-05 - accuracy: 1.0000 - val_loss: 1.8112 - val_accuracy: 0.6679\n",
      "Epoch 38/50\n",
      "3922/3922 [==============================] - 37s 9ms/sample - loss: 2.5250e-05 - accuracy: 1.0000 - val_loss: 1.8027 - val_accuracy: 0.6655\n",
      "Epoch 39/50\n",
      "3922/3922 [==============================] - 37s 9ms/sample - loss: 1.9659e-05 - accuracy: 1.0000 - val_loss: 1.8069 - val_accuracy: 0.6702\n",
      "Epoch 40/50\n",
      "3922/3922 [==============================] - 37s 10ms/sample - loss: 1.9769e-05 - accuracy: 1.0000 - val_loss: 1.8458 - val_accuracy: 0.6714\n",
      "Epoch 41/50\n",
      "3922/3922 [==============================] - 37s 9ms/sample - loss: 3.1804e-05 - accuracy: 1.0000 - val_loss: 1.7793 - val_accuracy: 0.6714\n",
      "Epoch 42/50\n",
      "3922/3922 [==============================] - 39s 10ms/sample - loss: 1.4279e-05 - accuracy: 1.0000 - val_loss: 1.9382 - val_accuracy: 0.6667\n",
      "Epoch 43/50\n",
      "3922/3922 [==============================] - 37s 9ms/sample - loss: 1.6204e-05 - accuracy: 1.0000 - val_loss: 1.8241 - val_accuracy: 0.6702\n",
      "Epoch 44/50\n",
      "3922/3922 [==============================] - 37s 9ms/sample - loss: 1.4840e-05 - accuracy: 1.0000 - val_loss: 1.7679 - val_accuracy: 0.6810\n",
      "Epoch 45/50\n",
      "3922/3922 [==============================] - 37s 9ms/sample - loss: 1.1170e-05 - accuracy: 1.0000 - val_loss: 1.8247 - val_accuracy: 0.6679\n",
      "Epoch 46/50\n",
      "3922/3922 [==============================] - 33s 8ms/sample - loss: 1.0610e-05 - accuracy: 1.0000 - val_loss: 1.8106 - val_accuracy: 0.6750\n",
      "Epoch 47/50\n",
      "3922/3922 [==============================] - 30s 8ms/sample - loss: 1.6324e-05 - accuracy: 1.0000 - val_loss: 1.8349 - val_accuracy: 0.6798\n",
      "Epoch 48/50\n",
      "3922/3922 [==============================] - 30s 8ms/sample - loss: 1.3965e-05 - accuracy: 1.0000 - val_loss: 1.8318 - val_accuracy: 0.6726\n",
      "Epoch 49/50\n",
      "3922/3922 [==============================] - 30s 8ms/sample - loss: 1.5352e-05 - accuracy: 1.0000 - val_loss: 1.8204 - val_accuracy: 0.6845\n",
      "Epoch 50/50\n",
      "3922/3922 [==============================] - 30s 8ms/sample - loss: 1.5159e-05 - accuracy: 1.0000 - val_loss: 1.8479 - val_accuracy: 0.6786\n"
     ]
    }
   ],
   "source": [
    "history_fine = final_model.fit(X_train, Y_train, batch_size=64, epochs=50, validation_data=(X_test, Y_test))"
   ]
  },
  {
   "cell_type": "code",
   "execution_count": 18,
   "metadata": {},
   "outputs": [],
   "source": [
    "model_comparison = {}\n",
    "model_comparison[\"vgg16\"] = pd.DataFrame(history_fine.history)"
   ]
  },
  {
   "cell_type": "code",
   "execution_count": 19,
   "metadata": {},
   "outputs": [],
   "source": [
    "EPOCHS = 50\n",
    "def plot_performance(model_name, epochs = EPOCHS):\n",
    "  dataframe = model_comparison[model_name]\n",
    "  plt.figure(figsize = (12,3))\n",
    "\n",
    "  plt.subplot(1,2,1)\n",
    "  plt.plot(dataframe[[\"val_loss\", \"loss\"]])\n",
    "  plt.xticks(np.arange(0,epochs,5), np.arange(1, epochs+1,5))\n",
    "  plt.title(\"Loss\")\n",
    "  plt.legend([\"test\", \"train\"])\n",
    "\n",
    "  plt.subplot(1,2,2)\n",
    "  plt.plot(dataframe[[\"val_accuracy\", \"accuracy\"]])\n",
    "  plt.legend([\"test\", \"train\"], loc = \"lower right\")\n",
    "  plt.xticks(np.arange(0,epochs,5), np.arange(1, epochs+1,5))\n",
    "  plt.title(\"Accuracy\")"
   ]
  },
  {
   "cell_type": "code",
   "execution_count": 20,
   "metadata": {},
   "outputs": [],
   "source": [
    "fine_tune_df = pd.DataFrame(history_fine.history)\n",
    "model_comparison['vgg16_fineTuned'] = pd.concat([model_comparison['vgg16'],fine_tune_df]).reset_index()"
   ]
  },
  {
   "cell_type": "code",
   "execution_count": 21,
   "metadata": {},
   "outputs": [
    {
     "data": {
      "image/png": "[encoded data removed]",
      "text/plain": [
       "<Figure size 1200x300 with 2 Axes>"
      ]
     },
     "metadata": {},
     "output_type": "display_data"
    }
   ],
   "source": [
    "plot_performance('vgg16')"
   ]
  },
  {
   "cell_type": "code",
   "execution_count": 22,
   "metadata": {},
   "outputs": [
    {
     "name": "stdout",
     "output_type": "stream",
     "text": [
      "840/840 [==============================] - 10s 12ms/sample - loss: 1.8479 - accuracy: 0.6786\n",
      "Test loss: 1.8479476156688872\n",
      "Test accuracy: 0.6785714\n"
     ]
    }
   ],
   "source": [
    "# Evaluate the model\n",
    "scores = final_model.evaluate(X_test, Y_test, verbose=1)\n",
    "print('Test loss:', scores[0])\n",
    "print('Test accuracy:', scores[1])"
   ]
  },
  {
   "cell_type": "code",
   "execution_count": 23,
   "metadata": {},
   "outputs": [
    {
     "name": "stdout",
     "output_type": "stream",
     "text": [
      "840/840 [==============================] - 6s 7ms/sample\n",
      "              precision    recall  f1-score   support\n",
      "\n",
      "           0       0.88      0.81      0.84       291\n",
      "           1       0.59      0.50      0.54       276\n",
      "           2       0.58      0.72      0.65       273\n",
      "\n",
      "    accuracy                           0.68       840\n",
      "   macro avg       0.68      0.68      0.68       840\n",
      "weighted avg       0.69      0.68      0.68       840\n",
      "\n"
     ]
    }
   ],
   "source": [
    "y_pred = final_model.predict(X_test, batch_size=64, verbose=1)\n",
    "y_pred_bool = np.argmax(y_pred, axis=1)\n",
    "print(classification_report(Y_test, y_pred_bool))"
   ]
  },
  {
   "cell_type": "code",
   "execution_count": 24,
   "metadata": {},
   "outputs": [
    {
     "data": {
      "image/png": "[encoded data removed]",
      "text/plain": [
       "<Figure size 640x480 with 2 Axes>"
      ]
     },
     "metadata": {},
     "output_type": "display_data"
    }
   ],
   "source": [
    "    # Calcular la matriz de confusión\n",
    "    cm = confusion_matrix(Y_test, y_pred_bool)\n",
    "\n",
    "    # Mostrar la matriz de confusión\n",
    "\n",
    "    display_labels = [\"AD\", \"CN\", \"LMCI\"]\n",
    "    \n",
    "    # Display confusion matrix\n",
    "    disp = ConfusionMatrixDisplay(confusion_matrix=cm, display_labels=display_labels)\n",
    "    fig, ax = plt.subplots()\n",
    "\n",
    "    disp.plot(cmap=plt.cm.Blues, ax=ax)\n",
    "    plt.title('CNN ' + 'VGG16 ')\n",
    "    #plt.show()\n",
    "\n",
    "    # Save the RF confusion matrix as a JPG image\n",
    "    #plt.savefig(\"matriz_confusion_CNN_VGG16.jpg\", format=\"jpg\", bbox_inches='tight')\n",
    "    plt.show()\n",
    "    plt.close(fig)"
   ]
  },
  {
   "cell_type": "code",
   "execution_count": 25,
   "metadata": {},
   "outputs": [],
   "source": [
    "final_model.save(\"VGG16_3.h5\")"
   ]
  }
 ],
 "metadata": {
  "kernelspec": {
   "display_name": "entornoGPU1",
   "language": "python",
   "name": "python3"
  },
  "language_info": {
   "codemirror_mode": {
    "name": "ipython",
    "version": 3
   },
   "file_extension": ".py",
   "mimetype": "text/x-python",
   "name": "python",
   "nbconvert_exporter": "python",
   "pygments_lexer": "ipython3",
   "version": "3.7.12"
  }
 },
 "nbformat": 4,
 "nbformat_minor": 2
}
