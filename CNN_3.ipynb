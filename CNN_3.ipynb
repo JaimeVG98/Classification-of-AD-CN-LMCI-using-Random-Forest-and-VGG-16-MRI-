{
 "cells": [
  {
   "cell_type": "code",
   "execution_count": 1,
   "metadata": {},
   "outputs": [
    {
     "name": "stderr",
     "output_type": "stream",
     "text": [
      "Using TensorFlow backend.\n"
     ]
    }
   ],
   "source": [
    "import pandas as pd\n",
    "import os\n",
    "import cv2\n",
    "import numpy as np\n",
    "import random\n",
    "import matplotlib.pyplot as plt\n",
    "import tensorflow as tensorflow\n",
    "from tensorflow import keras\n",
    "from tqdm import tqdm\n",
    "import pickle\n",
    "from keras.models import Sequential\n",
    "from keras.layers import Activation\n",
    "from keras.layers import Dense, Flatten\n",
    "from keras.optimizers import Adam\n",
    "from keras.callbacks import TensorBoard, EarlyStopping\n",
    "import keras.optimizers\n",
    "from tensorflow.keras.models import Model\n",
    "from tensorflow.keras import layers\n",
    "from sklearn.metrics import accuracy_score, confusion_matrix, classification_report, ConfusionMatrixDisplay\n",
    "from keras.applications import vgg16\n",
    "from imblearn.over_sampling import SMOTE\n",
    "from sklearn.model_selection import train_test_split"
   ]
  },
  {
   "cell_type": "code",
   "execution_count": 2,
   "metadata": {},
   "outputs": [
    {
     "data": {
      "text/plain": [
       "'2.1.0'"
      ]
     },
     "execution_count": 2,
     "metadata": {},
     "output_type": "execute_result"
    }
   ],
   "source": [
    "tensorflow.__version__"
   ]
  },
  {
   "cell_type": "code",
   "execution_count": 3,
   "metadata": {},
   "outputs": [
    {
     "name": "stderr",
     "output_type": "stream",
     "text": [
      "100%|██████████| 1215/1215 [00:00<00:00, 2510.74it/s]\n",
      "100%|██████████| 1323/1323 [00:00<00:00, 2492.54it/s]\n",
      "100%|██████████| 1384/1384 [00:00<00:00, 2494.25it/s]\n"
     ]
    },
    {
     "name": "stdout",
     "output_type": "stream",
     "text": [
      "3922\n",
      "train images\n",
      "\n",
      "(3922, 224, 224, 3)\n",
      "(3922,)\n"
     ]
    }
   ],
   "source": [
    "data_path = \"DATA_BASE\\DATA_BASE_TRAIN_LARGER\\IMAGES_PRESPROCESSED_LARGER\\CLEAN\"\n",
    "img_size = 224\n",
    "categories = [\"AD\", \"CN\", \"LMCI\"]\n",
    "\n",
    "data = []\n",
    "\n",
    "def creating_data():\n",
    "    for category in categories:\n",
    "        path = os.path.join(data_path,category)\n",
    "        class_num = categories.index(category)\n",
    "        for img in tqdm(os.listdir(path)):\n",
    "            img_array = cv2.imread(os.path.join(path, img) , cv2.IMREAD_COLOR)\n",
    "            new_array = cv2.resize(img_array, (img_size, img_size))\n",
    "            data.append([new_array, class_num])\n",
    "\n",
    "    random.shuffle(data)\n",
    "\n",
    "creating_data()\n",
    "print(len(data))\n",
    "\n",
    "print(\"train images\")\n",
    "print()\n",
    "X_train = np.array([i[0] for i in data]).reshape(-1,img_size,img_size,3)\n",
    "Y_train = np.array([i[1] for i in data])\n",
    "\n",
    "#X_train, X_test, y_train, y_test = train_test_split(X_train, Y_train, test_size=0.15, random_state=42)\n",
    "\n",
    "pickle_out = open(\"X_train.pickle\",\"wb\")\n",
    "pickle.dump(X_train, pickle_out)\n",
    "pickle_out.close()\n",
    "\n",
    "pickle_out = open(\"Y_train.pickle\",\"wb\")\n",
    "pickle.dump(Y_train, pickle_out)\n",
    "pickle_out.close()\n",
    "print(X_train.shape)\n",
    "print(Y_train.shape)"
   ]
  },
  {
   "cell_type": "code",
   "execution_count": 4,
   "metadata": {},
   "outputs": [
    {
     "name": "stderr",
     "output_type": "stream",
     "text": [
      "100%|██████████| 291/291 [00:00<00:00, 2299.93it/s]\n",
      "100%|██████████| 276/276 [00:00<00:00, 2587.06it/s]\n",
      "100%|██████████| 273/273 [00:00<00:00, 2538.92it/s]\n"
     ]
    },
    {
     "name": "stdout",
     "output_type": "stream",
     "text": [
      "840\n",
      "test images\n",
      "\n",
      "(840, 224, 224, 3)\n",
      "(840,)\n"
     ]
    }
   ],
   "source": [
    "data_path_test = \"DATA_BASE\\DATA_BASE_TEST\\IMAGES_PREPROCESSED_TEST\\CLEAN\"\n",
    "img_size = 224\n",
    "categories = [\"AD\", \"CN\", \"LMCI\"]\n",
    "\n",
    "data_test = []\n",
    "\n",
    "def creating_data_test():\n",
    "    for category in categories:\n",
    "        path = os.path.join(data_path_test,category)\n",
    "        class_num = categories.index(category)\n",
    "        for img in tqdm(os.listdir(path)):\n",
    "            img_array = cv2.imread(os.path.join(path, img) , cv2.IMREAD_COLOR)\n",
    "            new_array = cv2.resize(img_array, (img_size, img_size))\n",
    "            data_test.append([new_array, class_num])\n",
    "\n",
    "    random.shuffle(data_test)\n",
    "\n",
    "creating_data_test()\n",
    "print(len(data_test))\n",
    "\n",
    "print(\"test images\")\n",
    "print()\n",
    "X_test = np.array([i[0] for i in data_test]).reshape(-1,img_size,img_size,3)\n",
    "Y_test = np.array([i[1] for i in data_test])\n",
    "\n",
    "#X_train, X_test, y_train, y_test = train_test_split(X_train, Y_train, test_size=0.15, random_state=42)\n",
    "\n",
    "pickle_out = open(\"X_test.pickle\",\"wb\")\n",
    "pickle.dump(X_test, pickle_out)\n",
    "pickle_out.close()\n",
    "\n",
    "pickle_out = open(\"Y_test.pickle\",\"wb\")\n",
    "pickle.dump(Y_test, pickle_out)\n",
    "pickle_out.close()\n",
    "print(X_test.shape)\n",
    "print(Y_test.shape)"
   ]
  },
  {
   "cell_type": "code",
   "execution_count": 5,
   "metadata": {},
   "outputs": [],
   "source": [
    "from tensorflow.python.client import device_lib"
   ]
  },
  {
   "cell_type": "code",
   "execution_count": null,
   "metadata": {},
   "outputs": [],
   "source": []
  },
  {
   "cell_type": "code",
   "execution_count": 6,
   "metadata": {},
   "outputs": [
    {
     "data": {
      "text/plain": [
       "[name: \"/device:CPU:0\"\n",
       " device_type: \"CPU\"\n",
       " memory_limit: 268435456\n",
       " locality {\n",
       " }\n",
       " incarnation: 3753797948708888171,\n",
       " name: \"/device:GPU:0\"\n",
       " device_type: \"GPU\"\n",
       " memory_limit: 4963958784\n",
       " locality {\n",
       "   bus_id: 1\n",
       "   links {\n",
       "   }\n",
       " }\n",
       " incarnation: 13809374862324402058\n",
       " physical_device_desc: \"device: 0, name: NVIDIA GeForce GTX 1660 SUPER, pci bus id: 0000:01:00.0, compute capability: 7.5\"]"
      ]
     },
     "execution_count": 6,
     "metadata": {},
     "output_type": "execute_result"
    }
   ],
   "source": [
    "# List available GPU devices\n",
    "physical_devices = tensorflow.config.list_physical_devices('GPU')\n",
    "if physical_devices:\n",
    "    try:\n",
    "        # Set memory growth for the first GPU device\n",
    "        tensorflow.config.set_logical_device_configuration(\n",
    "            physical_devices[0],\n",
    "            [tensorflow.config.LogicalDeviceConfiguration(memory_limit=4096)]\n",
    "        )\n",
    "        #tensorflow.config.experimental.set_memory_growth(physical_devices[0], True)\n",
    "        #print(\"Memory growth enabled for GPU\")\n",
    "    except RuntimeError as e:\n",
    "        # Memory growth must be set before any initialization\n",
    "        print(e)\n",
    "else:\n",
    "    print(\"No GPU found\")\n",
    "\n",
    "\n",
    "# Enable GPU memory growth to avoid memory allocation errors\n",
    "physical_devices = tensorflow.config.list_physical_devices('GPU')\n",
    "#tensorflow.config.experimental.set_memory_growth(physical_devices[0], True)\n",
    "\n",
    "\n",
    "\n",
    "device_lib.list_local_devices()"
   ]
  },
  {
   "cell_type": "code",
   "execution_count": 7,
   "metadata": {},
   "outputs": [],
   "source": [
    "tensorboard = TensorBoard(log_dir='./VGG16logs', histogram_freq=0,\n",
    "                          write_graph=True, write_images=False)\n",
    "es = EarlyStopping(monitor='val_loss', mode='min', verbose=1, patience=5)"
   ]
  },
  {
   "cell_type": "code",
   "execution_count": 8,
   "metadata": {},
   "outputs": [],
   "source": [
    "from tensorflow.keras.applications import VGG16"
   ]
  },
  {
   "cell_type": "code",
   "execution_count": 9,
   "metadata": {},
   "outputs": [
    {
     "name": "stdout",
     "output_type": "stream",
     "text": [
      "Model: \"model\"\n",
      "_________________________________________________________________\n",
      "Layer (type)                 Output Shape              Param #   \n",
      "=================================================================\n",
      "input_2 (InputLayer)         [(None, 224, 224, 3)]     0         \n",
      "_________________________________________________________________\n",
      "vgg16 (Model)                (None, 7, 7, 512)         14714688  \n",
      "_________________________________________________________________\n",
      "global_average_pooling2d (Gl (None, 512)               0         \n",
      "_________________________________________________________________\n",
      "dropout (Dropout)            (None, 512)               0         \n",
      "_________________________________________________________________\n",
      "dense (Dense)                (None, 3)                 1539      \n",
      "=================================================================\n",
      "Total params: 14,716,227\n",
      "Trainable params: 1,539\n",
      "Non-trainable params: 14,714,688\n",
      "_________________________________________________________________\n",
      "<class 'tensorflow.python.keras.engine.training.Model'>\n"
     ]
    }
   ],
   "source": [
    "\n",
    "# Load the VGG16 base model\n",
    "vgg16_base_model = VGG16(input_shape=(224, 224, 3), include_top=False, weights='imagenet')\n",
    "vgg16_base_model.trainable = False  # Freeze the base model\n",
    "\n",
    "# Define the input layer\n",
    "inputs = tensorflow.keras.Input(shape=(224, 224, 3))\n",
    "\n",
    "# Extract features using the base model\n",
    "features_extracted = vgg16_base_model(inputs)\n",
    "\n",
    "# Apply global average pooling\n",
    "avg_pooling = layers.GlobalAveragePooling2D()(features_extracted)\n",
    "\n",
    "# Add Dropout for regularization\n",
    "dropout = layers.Dropout(0.5)(avg_pooling)\n",
    "\n",
    "# Add the final Dense layer for classification\n",
    "outputs = layers.Dense(3, activation='softmax')(dropout)\n",
    "\n",
    "# Create the final model\n",
    "final_model = Model(inputs, outputs)\n",
    "\n",
    "# Print the model summary\n",
    "final_model.summary()\n",
    "\n",
    "# Check the type of the model\n",
    "print(type(final_model))"
   ]
  },
  {
   "cell_type": "code",
   "execution_count": 10,
   "metadata": {},
   "outputs": [],
   "source": [
    "X_train = X_train / 255.0\n",
    "X_test = X_test / 255.0"
   ]
  },
  {
   "cell_type": "code",
   "execution_count": 11,
   "metadata": {},
   "outputs": [
    {
     "name": "stdout",
     "output_type": "stream",
     "text": [
      "Number of layers in the base model:  19\n",
      "['input_1', 'block1_conv1', 'block1_conv2', 'block1_pool', 'block2_conv1', 'block2_conv2', 'block2_pool', 'block3_conv1', 'block3_conv2', 'block3_conv3', 'block3_pool', 'block4_conv1', 'block4_conv2', 'block4_conv3', 'block4_pool', 'block5_conv1', 'block5_conv2', 'block5_conv3', 'block5_pool']\n"
     ]
    }
   ],
   "source": [
    "# how many layers are in the base model?\n",
    "print(\"Number of layers in the base model: \", len(vgg16_base_model.layers))\n",
    "\n",
    "vgg16_layers = [layer.name for layer in vgg16_base_model.layers]\n",
    "print(vgg16_layers)"
   ]
  },
  {
   "cell_type": "code",
   "execution_count": 12,
   "metadata": {},
   "outputs": [],
   "source": [
    "# swithcing on all layers to be trainable\n",
    "vgg16_base_model.trainable = True\n",
    "\n",
    "# swithcing off(freezing) all layers except the last 4 layers\n",
    "fine_tune_last = 4\n",
    "for layer in vgg16_base_model.layers[:-fine_tune_last]:\n",
    "    layer.trainable = False"
   ]
  },
  {
   "cell_type": "code",
   "execution_count": null,
   "metadata": {},
   "outputs": [],
   "source": [
    "optimizer = tensorflow.keras.optimizers.Adam(learning_rate=1e-5)\n",
    "final_model.compile(optimizer=optimizer, loss=\"sparse_categorical_crossentropy\", metrics=['accuracy'])"
   ]
  },
  {
   "cell_type": "code",
   "execution_count": 14,
   "metadata": {},
   "outputs": [
    {
     "name": "stdout",
     "output_type": "stream",
     "text": [
      "Model: \"model\"\n",
      "_________________________________________________________________\n",
      "Layer (type)                 Output Shape              Param #   \n",
      "=================================================================\n",
      "input_2 (InputLayer)         [(None, 224, 224, 3)]     0         \n",
      "_________________________________________________________________\n",
      "vgg16 (Model)                (None, 7, 7, 512)         14714688  \n",
      "_________________________________________________________________\n",
      "global_average_pooling2d (Gl (None, 512)               0         \n",
      "_________________________________________________________________\n",
      "dropout (Dropout)            (None, 512)               0         \n",
      "_________________________________________________________________\n",
      "dense (Dense)                (None, 3)                 1539      \n",
      "=================================================================\n",
      "Total params: 14,716,227\n",
      "Trainable params: 7,080,963\n",
      "Non-trainable params: 7,635,264\n",
      "_________________________________________________________________\n"
     ]
    }
   ],
   "source": [
    "final_model.summary()"
   ]
  },
  {
   "cell_type": "code",
   "execution_count": 15,
   "metadata": {},
   "outputs": [
    {
     "name": "stdout",
     "output_type": "stream",
     "text": [
      "Train on 3922 samples, validate on 840 samples\n",
      "Epoch 1/20\n",
      "3922/3922 [==============================] - 42s 11ms/sample - loss: 1.0205 - accuracy: 0.4638 - val_loss: 0.9505 - val_accuracy: 0.6060\n",
      "Epoch 2/20\n",
      "3922/3922 [==============================] - 34s 9ms/sample - loss: 0.7116 - accuracy: 0.7007 - val_loss: 0.8399 - val_accuracy: 0.6310\n",
      "Epoch 3/20\n",
      "3922/3922 [==============================] - 34s 9ms/sample - loss: 0.4724 - accuracy: 0.8327 - val_loss: 0.8494 - val_accuracy: 0.6083\n",
      "Epoch 4/20\n",
      "3922/3922 [==============================] - 34s 9ms/sample - loss: 0.3021 - accuracy: 0.9095 - val_loss: 0.8886 - val_accuracy: 0.6024\n",
      "Epoch 5/20\n",
      "3922/3922 [==============================] - 35s 9ms/sample - loss: 0.1945 - accuracy: 0.9457 - val_loss: 0.8464 - val_accuracy: 0.6643\n",
      "Epoch 6/20\n",
      "3922/3922 [==============================] - 35s 9ms/sample - loss: 0.1238 - accuracy: 0.9709 - val_loss: 0.8402 - val_accuracy: 0.6762\n",
      "Epoch 7/20\n",
      "3922/3922 [==============================] - 35s 9ms/sample - loss: 0.0898 - accuracy: 0.9829 - val_loss: 0.8694 - val_accuracy: 0.6774\n",
      "Epoch 8/20\n",
      "3922/3922 [==============================] - 35s 9ms/sample - loss: 0.0574 - accuracy: 0.9890 - val_loss: 0.9603 - val_accuracy: 0.6714\n",
      "Epoch 9/20\n",
      "3922/3922 [==============================] - 34s 9ms/sample - loss: 0.0397 - accuracy: 0.9949 - val_loss: 1.1313 - val_accuracy: 0.6607\n",
      "Epoch 10/20\n",
      "3922/3922 [==============================] - 35s 9ms/sample - loss: 0.0293 - accuracy: 0.9969 - val_loss: 1.1505 - val_accuracy: 0.6405\n",
      "Epoch 11/20\n",
      "3922/3922 [==============================] - 35s 9ms/sample - loss: 0.0250 - accuracy: 0.9962 - val_loss: 1.1635 - val_accuracy: 0.6429\n",
      "Epoch 12/20\n",
      "3922/3922 [==============================] - 35s 9ms/sample - loss: 0.0185 - accuracy: 0.9985 - val_loss: 1.0905 - val_accuracy: 0.6619\n",
      "Epoch 13/20\n",
      "3922/3922 [==============================] - 35s 9ms/sample - loss: 0.0120 - accuracy: 0.9992 - val_loss: 1.1161 - val_accuracy: 0.6619\n",
      "Epoch 14/20\n",
      "3922/3922 [==============================] - 36s 9ms/sample - loss: 0.0183 - accuracy: 0.9967 - val_loss: 1.1571 - val_accuracy: 0.6774\n",
      "Epoch 15/20\n",
      "3922/3922 [==============================] - 36s 9ms/sample - loss: 0.0076 - accuracy: 0.9997 - val_loss: 1.2190 - val_accuracy: 0.6786\n",
      "Epoch 16/20\n",
      "3922/3922 [==============================] - 34s 9ms/sample - loss: 0.0100 - accuracy: 0.9985 - val_loss: 1.1572 - val_accuracy: 0.6881\n",
      "Epoch 17/20\n",
      "3922/3922 [==============================] - 37s 9ms/sample - loss: 0.0062 - accuracy: 0.9995 - val_loss: 1.3232 - val_accuracy: 0.6238\n",
      "Epoch 18/20\n",
      "3922/3922 [==============================] - 39s 10ms/sample - loss: 0.0066 - accuracy: 0.9995 - val_loss: 1.2716 - val_accuracy: 0.6762\n",
      "Epoch 19/20\n",
      "3922/3922 [==============================] - 38s 10ms/sample - loss: 0.0046 - accuracy: 0.9997 - val_loss: 1.4274 - val_accuracy: 0.6798\n",
      "Epoch 20/20\n",
      "3922/3922 [==============================] - 39s 10ms/sample - loss: 0.0049 - accuracy: 0.9990 - val_loss: 1.2106 - val_accuracy: 0.6774\n"
     ]
    }
   ],
   "source": [
    "history_fine = final_model.fit(X_train, Y_train, batch_size=16, epochs=20, validation_data=(X_test, Y_test))"
   ]
  },
  {
   "cell_type": "code",
   "execution_count": 16,
   "metadata": {},
   "outputs": [],
   "source": [
    "model_comparison = {}\n",
    "model_comparison[\"vgg16\"] = pd.DataFrame(history_fine.history)"
   ]
  },
  {
   "cell_type": "code",
   "execution_count": 17,
   "metadata": {},
   "outputs": [],
   "source": [
    "EPOCHS = 30\n",
    "def plot_performance(model_name, epochs = EPOCHS):\n",
    "  dataframe = model_comparison[model_name]\n",
    "  plt.figure(figsize = (12,3))\n",
    "\n",
    "  plt.subplot(1,2,1)\n",
    "  plt.plot(dataframe[[\"val_loss\", \"loss\"]])\n",
    "  plt.xticks(np.arange(0,epochs,5), np.arange(1, epochs+1,5))\n",
    "  plt.title(\"Loss\")\n",
    "  plt.legend([\"test\", \"train\"])\n",
    "\n",
    "  plt.subplot(1,2,2)\n",
    "  plt.plot(dataframe[[\"val_accuracy\", \"accuracy\"]])\n",
    "  plt.legend([\"test\", \"train\"], loc = \"lower right\")\n",
    "  plt.xticks(np.arange(0,epochs,5), np.arange(1, epochs+1,5))\n",
    "  plt.title(\"Accuracy\")"
   ]
  },
  {
   "cell_type": "code",
   "execution_count": 18,
   "metadata": {},
   "outputs": [],
   "source": [
    "fine_tune_df = pd.DataFrame(history_fine.history)\n",
    "model_comparison['vgg16_fineTuned'] = pd.concat([model_comparison['vgg16'],fine_tune_df]).reset_index()"
   ]
  },
  {
   "cell_type": "code",
   "execution_count": 19,
   "metadata": {},
   "outputs": [
    {
     "data": {
      "image/png": "[encoded data removed]",
      "text/plain": [
       "<Figure size 1200x300 with 2 Axes>"
      ]
     },
     "metadata": {},
     "output_type": "display_data"
    }
   ],
   "source": [
    "plot_performance('vgg16')"
   ]
  },
  {
   "cell_type": "code",
   "execution_count": 20,
   "metadata": {},
   "outputs": [
    {
     "name": "stdout",
     "output_type": "stream",
     "text": [
      "840/840 [==============================] - 11s 13ms/sample - loss: 1.2106 - accuracy: 0.6774\n",
      "Test loss: 1.2105706918807257\n",
      "Test accuracy: 0.677381\n"
     ]
    }
   ],
   "source": [
    "# Evaluate the model\n",
    "scores = final_model.evaluate(X_test, Y_test, verbose=1)\n",
    "print('Test loss:', scores[0])\n",
    "print('Test accuracy:', scores[1])"
   ]
  },
  {
   "cell_type": "code",
   "execution_count": 21,
   "metadata": {},
   "outputs": [
    {
     "name": "stdout",
     "output_type": "stream",
     "text": [
      "840/840 [==============================] - 6s 8ms/sample\n",
      "              precision    recall  f1-score   support\n",
      "\n",
      "           0       0.93      0.79      0.86       291\n",
      "           1       0.56      0.63      0.59       276\n",
      "           2       0.59      0.60      0.59       273\n",
      "\n",
      "    accuracy                           0.68       840\n",
      "   macro avg       0.69      0.68      0.68       840\n",
      "weighted avg       0.70      0.68      0.68       840\n",
      "\n"
     ]
    }
   ],
   "source": [
    "y_pred = final_model.predict(X_test, batch_size=16, verbose=1)\n",
    "y_pred_bool = np.argmax(y_pred, axis=1)\n",
    "print(classification_report(Y_test, y_pred_bool))"
   ]
  },
  {
   "cell_type": "code",
   "execution_count": 22,
   "metadata": {},
   "outputs": [
    {
     "data": {
      "image/png": "[encoded data removed]",
      "text/plain": [
       "<Figure size 640x480 with 2 Axes>"
      ]
     },
     "metadata": {},
     "output_type": "display_data"
    }
   ],
   "source": [
    "    # Calcular la matriz de confusión\n",
    "    cm = confusion_matrix(Y_test, y_pred_bool)\n",
    "\n",
    "    # Mostrar la matriz de confusión\n",
    "\n",
    "    display_labels = [\"AD\", \"CN\", \"LMCI\"]\n",
    "    \n",
    "    # Display confusion matrix\n",
    "    disp = ConfusionMatrixDisplay(confusion_matrix=cm, display_labels=display_labels)\n",
    "    fig, ax = plt.subplots()\n",
    "\n",
    "    disp.plot(cmap=plt.cm.Blues, ax=ax)\n",
    "    plt.title('CNN ' + 'VGG16 ')\n",
    "    #plt.show()\n",
    "\n",
    "    # Save the RF confusion matrix as a JPG image\n",
    "    #plt.savefig(\"matriz_confusion_CNN_VGG16.jpg\", format=\"jpg\", bbox_inches='tight')\n",
    "    plt.show()\n",
    "    plt.close(fig)"
   ]
  },
  {
   "cell_type": "code",
   "execution_count": 23,
   "metadata": {},
   "outputs": [],
   "source": [
    "final_model.save(\"VGG16_3.h5\")"
   ]
  }
 ],
 "metadata": {
  "kernelspec": {
   "display_name": "entornoGPU1",
   "language": "python",
   "name": "python3"
  },
  "language_info": {
   "codemirror_mode": {
    "name": "ipython",
    "version": 3
   },
   "file_extension": ".py",
   "mimetype": "text/x-python",
   "name": "python",
   "nbconvert_exporter": "python",
   "pygments_lexer": "ipython3",
   "version": "3.7.12"
  }
 },
 "nbformat": 4,
 "nbformat_minor": 2
}
