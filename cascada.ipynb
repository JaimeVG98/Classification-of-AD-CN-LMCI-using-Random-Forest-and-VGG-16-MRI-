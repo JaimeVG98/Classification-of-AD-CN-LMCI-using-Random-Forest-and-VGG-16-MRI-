{
 "cells": [
  {
   "cell_type": "code",
   "execution_count": 1,
   "id": "2e9baff7",
   "metadata": {},
   "outputs": [
    {
     "name": "stderr",
     "output_type": "stream",
     "text": [
      "Using TensorFlow backend.\n"
     ]
    }
   ],
   "source": [
    "import pandas as pd\n",
    "import os\n",
    "import cv2\n",
    "import numpy as np\n",
    "import random\n",
    "import matplotlib.pyplot as plt\n",
    "import tensorflow as tensorflow\n",
    "from tensorflow import keras\n",
    "from tqdm import tqdm\n",
    "import pickle\n",
    "from keras.models import Sequential\n",
    "from keras.layers import Activation\n",
    "from keras.layers import Dense, Flatten\n",
    "from keras.optimizers import Adam\n",
    "from keras.callbacks import TensorBoard, EarlyStopping\n",
    "import keras.optimizers\n",
    "from tensorflow.keras.models import Model\n",
    "from tensorflow.keras import layers\n",
    "from sklearn.metrics import accuracy_score, confusion_matrix, classification_report, ConfusionMatrixDisplay\n",
    "from keras.applications import vgg16\n",
    "from imblearn.over_sampling import SMOTE\n",
    "from sklearn.model_selection import train_test_split"
   ]
  },
  {
   "cell_type": "code",
   "execution_count": 2,
   "id": "dd735be4",
   "metadata": {},
   "outputs": [
    {
     "data": {
      "text/plain": [
       "'2.1.0'"
      ]
     },
     "execution_count": 2,
     "metadata": {},
     "output_type": "execute_result"
    }
   ],
   "source": [
    "tensorflow.__version__"
   ]
  },
  {
   "cell_type": "code",
   "execution_count": 3,
   "id": "7703fb87",
   "metadata": {},
   "outputs": [
    {
     "data": {
      "text/plain": [
       "[name: \"/device:CPU:0\"\n",
       " device_type: \"CPU\"\n",
       " memory_limit: 268435456\n",
       " locality {\n",
       " }\n",
       " incarnation: 3235648431072667315,\n",
       " name: \"/device:GPU:0\"\n",
       " device_type: \"GPU\"\n",
       " memory_limit: 4963958784\n",
       " locality {\n",
       "   bus_id: 1\n",
       "   links {\n",
       "   }\n",
       " }\n",
       " incarnation: 1118436848389299145\n",
       " physical_device_desc: \"device: 0, name: NVIDIA GeForce GTX 1660 SUPER, pci bus id: 0000:01:00.0, compute capability: 7.5\"]"
      ]
     },
     "execution_count": 3,
     "metadata": {},
     "output_type": "execute_result"
    }
   ],
   "source": [
    "from tensorflow.python.client import device_lib\n",
    "\n",
    "# List available GPU devices\n",
    "physical_devices = tensorflow.config.list_physical_devices('GPU')\n",
    "if physical_devices:\n",
    "    try:\n",
    "        # Set memory growth for the first GPU device\n",
    "        tensorflow.config.set_logical_device_configuration(\n",
    "            physical_devices[0],\n",
    "            [tensorflow.config.LogicalDeviceConfiguration(memory_limit=4096)]\n",
    "        )\n",
    "        #tensorflow.config.experimental.set_memory_growth(physical_devices[0], True)\n",
    "        #print(\"Memory growth enabled for GPU\")\n",
    "    except RuntimeError as e:\n",
    "        # Memory growth must be set before any initialization\n",
    "        print(e)\n",
    "else:\n",
    "    print(\"No GPU found\")\n",
    "\n",
    "\n",
    "# Enable GPU memory growth to avoid memory allocation errors\n",
    "physical_devices = tensorflow.config.list_physical_devices('GPU')\n",
    "#tensorflow.config.experimental.set_memory_growth(physical_devices[0], True)\n",
    "\n",
    "\n",
    "\n",
    "device_lib.list_local_devices()"
   ]
  },
  {
   "cell_type": "code",
   "execution_count": null,
   "id": "7013d4b4",
   "metadata": {},
   "outputs": [
    {
     "name": "stderr",
     "output_type": "stream",
     "text": [
      "Stage 1 - AD: 100%|██████████| 1215/1215 [00:00<00:00, 2737.31it/s]\n",
      "Stage 1 - CN: 100%|██████████| 661/661 [00:01<00:00, 543.96it/s]\n",
      "Stage 1 - LMCI: 100%|██████████| 692/692 [00:01<00:00, 525.55it/s]\n"
     ]
    },
    {
     "name": "stdout",
     "output_type": "stream",
     "text": [
      "Stage 1 - Train set: (2568, 224, 224, 3) (2568,)\n"
     ]
    },
    {
     "name": "stderr",
     "output_type": "stream",
     "text": [
      "Stage 2 - CN: 100%|██████████| 661/661 [00:00<00:00, 886.50it/s]\n",
      "Stage 2 - LMCI: 100%|██████████| 692/692 [00:00<00:00, 944.19it/s]\n"
     ]
    },
    {
     "name": "stdout",
     "output_type": "stream",
     "text": [
      "Stage 2 - Train set: (1353, 224, 224, 3) (1353,)\n"
     ]
    },
    {
     "name": "stderr",
     "output_type": "stream",
     "text": [
      "Stage 1 - AD: 100%|██████████| 291/291 [00:00<00:00, 2632.73it/s]\n",
      "Stage 1 - CN: 100%|██████████| 276/276 [00:00<00:00, 2666.29it/s]\n",
      "Stage 1 - LMCI: 100%|██████████| 273/273 [00:00<00:00, 2673.20it/s]\n"
     ]
    },
    {
     "name": "stdout",
     "output_type": "stream",
     "text": [
      "Stage 1 - Test set: (840, 224, 224, 3) (840,)\n"
     ]
    },
    {
     "name": "stderr",
     "output_type": "stream",
     "text": [
      "Stage 2 - CN: 100%|██████████| 276/276 [00:00<00:00, 2801.62it/s]\n",
      "Stage 2 - LMCI: 100%|██████████| 273/273 [00:00<00:00, 2771.18it/s]\n"
     ]
    },
    {
     "name": "stdout",
     "output_type": "stream",
     "text": [
      "Stage 2 - Test set: (549, 224, 224, 3) (549,)\n"
     ]
    }
   ],
   "source": [
    "data_path_train = \"DATA_BASE\\DATA_BASE_TRAIN_LARGER\\IMAGES_PRESPROCESSED_LARGER\\CLEAN\"\n",
    "img_size = 224\n",
    "random.seed(42)\n",
    "# ---------------------- ETAPA 1: AD vs Not_AD ----------------------\n",
    "categories_train_stage1 = [\"AD\", \"CN\", \"LMCI\"]\n",
    "data_train_stage1 = []\n",
    "\n",
    "#def create_data_stage1():\n",
    "#    for category in categories_train_stage1:\n",
    "#        path = os.path.join(data_path_train, category)\n",
    "#        class_label = 0 if category == \"AD\" else 1  # AD = 0, Not_AD = 1\n",
    "#        for img in tqdm(os.listdir(path), desc=f\"Stage 1 - {category}\"):\n",
    "#            img_array = cv2.imread(os.path.join(path, img), cv2.IMREAD_COLOR)\n",
    "#            if img_array is not None:\n",
    "#                new_array = cv2.resize(img_array, (img_size, img_size))\n",
    "#                data_train_stage1.append([new_array, class_label])\n",
    "\n",
    "#    random.shuffle(data_train_stage1)\n",
    "\n",
    "def create_data_stage1():\n",
    "    for category in categories_train_stage1:\n",
    "        path = os.path.join(data_path_train, category)\n",
    "        class_label = 0 if category == \"CN\" else 1  # CN = 0, Not_CN = 1\n",
    "        images = os.listdir(path)\n",
    "        \n",
    "        # Usar 50% de CN y LMCI, 100% de AD\n",
    "        if category != \"CN\":\n",
    "            images = random.sample(images, len(images) // 2)\n",
    "\n",
    "        for img in tqdm(images, desc=f\"Stage 1 - {category}\"):\n",
    "            img_array = cv2.imread(os.path.join(path, img), cv2.IMREAD_COLOR)\n",
    "            if img_array is not None:\n",
    "                new_array = cv2.resize(img_array, (img_size, img_size))\n",
    "                data_train_stage1.append([new_array, class_label])\n",
    "\n",
    "    random.shuffle(data_train_stage1)\n",
    "\n",
    "create_data_stage1()\n",
    "\n",
    "X_train_stage1 = np.array([i[0] for i in data_train_stage1]).reshape(-1, img_size, img_size, 3)\n",
    "Y_train_stage1 = np.array([i[1] for i in data_train_stage1])\n",
    "\n",
    "with open(\"X_stage1_test.pickle\", \"wb\") as f:\n",
    "    pickle.dump(X_train_stage1, f)\n",
    "with open(\"Y_stage1_test.pickle\", \"wb\") as f:\n",
    "    pickle.dump(Y_train_stage1, f)\n",
    "\n",
    "print(\"Stage 1 - Train set:\", X_train_stage1.shape, Y_train_stage1.shape)\n",
    "\n",
    "# ---------------------- ETAPA 2: CN vs LMCI ----------------------\n",
    "categories_train_stage2 = [\"AD\", \"LMCI\"]\n",
    "data_train_stage2 = []\n",
    "\n",
    "#def create_data_stage2():\n",
    "#    for category in categories_train_stage2:\n",
    "#        path = os.path.join(data_path_train, category)\n",
    "#        class_label = categories_train_stage2.index(category)  # CN = 0, LMCI = 1\n",
    "#        for img in tqdm(os.listdir(path), desc=f\"Stage 2 - {category}\"):\n",
    "#            img_array = cv2.imread(os.path.join(path, img), cv2.IMREAD_COLOR)\n",
    "#            if img_array is not None:\n",
    "#                new_array = cv2.resize(img_array, (img_size, img_size))\n",
    "#                data_train_stage2.append([new_array, class_label])\n",
    "\n",
    "#    random.shuffle(data_train_stage2)\n",
    "\n",
    "def create_data_stage2():\n",
    "    for category in categories_train_stage2:\n",
    "        path = os.path.join(data_path_train, category)\n",
    "        class_label = categories_train_stage2.index(category)  # AD = 0, LMCI = 1\n",
    "        images = os.listdir(path)\n",
    "        \n",
    "        # Usar solo 50% de CN y LMCI\n",
    "        images = random.sample(images, len(images) // 2)\n",
    "\n",
    "        for img in tqdm(images, desc=f\"Stage 2 - {category}\"):\n",
    "            img_array = cv2.imread(os.path.join(path, img), cv2.IMREAD_COLOR)\n",
    "            if img_array is not None:\n",
    "                new_array = cv2.resize(img_array, (img_size, img_size))\n",
    "                data_train_stage2.append([new_array, class_label])\n",
    "\n",
    "    random.shuffle(data_train_stage2)\n",
    "\n",
    "create_data_stage2()\n",
    "\n",
    "X_train_stage2 = np.array([i[0] for i in data_train_stage2]).reshape(-1, img_size, img_size, 3)\n",
    "Y_train_stage2 = np.array([i[1] for i in data_train_stage2])\n",
    "\n",
    "with open(\"X_stage2_test.pickle\", \"wb\") as f:\n",
    "    pickle.dump(X_train_stage2, f)\n",
    "with open(\"Y_stage2_test.pickle\", \"wb\") as f:\n",
    "    pickle.dump(Y_train_stage2, f)\n",
    "\n",
    "print(\"Stage 2 - Train set:\", X_train_stage2.shape, Y_train_stage2.shape)\n",
    "\n",
    "\n",
    "\n",
    "\n",
    "data_path_test = \"DATA_BASE\\\\DATA_BASE_TEST\\\\IMAGES_PREPROCESSED_TEST\\\\CLEAN\"\n",
    "\n",
    "# ---------------------- ETAPA 1: AD vs Not_AD ----------------------\n",
    "categories_test_stage1 = [\"AD\", \"CN\", \"LMCI\"]\n",
    "data_test_stage1 = []\n",
    "\n",
    "def create_data_stage1():\n",
    "    for category in categories_test_stage1:\n",
    "        path = os.path.join(data_path_test, category)\n",
    "        class_label = 0 if category == \"CN\" else 1  # CN = 0, Not_CN = 1\n",
    "        for img in tqdm(os.listdir(path), desc=f\"Stage 1 - {category}\"):\n",
    "            img_array = cv2.imread(os.path.join(path, img), cv2.IMREAD_COLOR)\n",
    "            if img_array is not None:\n",
    "                new_array = cv2.resize(img_array, (img_size, img_size))\n",
    "                data_test_stage1.append([new_array, class_label])\n",
    "\n",
    "    random.shuffle(data_test_stage1)\n",
    "\n",
    "create_data_stage1()\n",
    "\n",
    "X_test_stage1 = np.array([i[0] for i in data_test_stage1]).reshape(-1, img_size, img_size, 3)\n",
    "Y_test_stage1 = np.array([i[1] for i in data_test_stage1])\n",
    "\n",
    "with open(\"X_stage1_test.pickle\", \"wb\") as f:\n",
    "    pickle.dump(X_test_stage1, f)\n",
    "with open(\"Y_stage1_test.pickle\", \"wb\") as f:\n",
    "    pickle.dump(Y_test_stage1, f)\n",
    "\n",
    "print(\"Stage 1 - Test set:\", X_test_stage1.shape, Y_test_stage1.shape)\n",
    "\n",
    "# ---------------------- ETAPA 2: CN vs LMCI ----------------------\n",
    "categories_test_stage2 = [\"AD\", \"LMCI\"]\n",
    "data_test_stage2 = []\n",
    "\n",
    "def create_data_stage2():\n",
    "    for category in categories_test_stage2:\n",
    "        path = os.path.join(data_path_test, category)\n",
    "        class_label = categories_test_stage2.index(category)  # AD = 0, LMCI = 1\n",
    "        for img in tqdm(os.listdir(path), desc=f\"Stage 2 - {category}\"):\n",
    "            img_array = cv2.imread(os.path.join(path, img), cv2.IMREAD_COLOR)\n",
    "            if img_array is not None:\n",
    "                new_array = cv2.resize(img_array, (img_size, img_size))\n",
    "                data_test_stage2.append([new_array, class_label])\n",
    "\n",
    "    random.shuffle(data_test_stage2)\n",
    "\n",
    "create_data_stage2()\n",
    "\n",
    "X_test_stage2 = np.array([i[0] for i in data_test_stage2]).reshape(-1, img_size, img_size, 3)\n",
    "Y_test_stage2 = np.array([i[1] for i in data_test_stage2])\n",
    "\n",
    "with open(\"X_stage2_test.pickle\", \"wb\") as f:\n",
    "    pickle.dump(X_test_stage2, f)\n",
    "with open(\"Y_stage2_test.pickle\", \"wb\") as f:\n",
    "    pickle.dump(Y_test_stage2, f)\n",
    "\n",
    "print(\"Stage 2 - Test set:\", X_test_stage2.shape, Y_test_stage2.shape)"
   ]
  },
  {
   "cell_type": "code",
   "execution_count": 5,
   "id": "26bc6372",
   "metadata": {},
   "outputs": [],
   "source": [
    "tensorboard = TensorBoard(log_dir='./VGG16logs', histogram_freq=0,\n",
    "                          write_graph=True, write_images=False)\n",
    "es = EarlyStopping(monitor='val_loss', mode='min', verbose=1, patience=5)\n",
    "\n",
    "from tensorflow.keras.applications import VGG16"
   ]
  },
  {
   "cell_type": "code",
   "execution_count": 6,
   "id": "7198d968",
   "metadata": {},
   "outputs": [
    {
     "name": "stdout",
     "output_type": "stream",
     "text": [
      "Model: \"model\"\n",
      "_________________________________________________________________\n",
      "Layer (type)                 Output Shape              Param #   \n",
      "=================================================================\n",
      "input_2 (InputLayer)         [(None, 224, 224, 3)]     0         \n",
      "_________________________________________________________________\n",
      "vgg16 (Model)                (None, 7, 7, 512)         14714688  \n",
      "_________________________________________________________________\n",
      "global_average_pooling2d (Gl (None, 512)               0         \n",
      "_________________________________________________________________\n",
      "dropout (Dropout)            (None, 512)               0         \n",
      "_________________________________________________________________\n",
      "dense (Dense)                (None, 2)                 1026      \n",
      "=================================================================\n",
      "Total params: 14,715,714\n",
      "Trainable params: 1,026\n",
      "Non-trainable params: 14,714,688\n",
      "_________________________________________________________________\n",
      "<class 'tensorflow.python.keras.engine.training.Model'>\n",
      "Model: \"model_1\"\n",
      "_________________________________________________________________\n",
      "Layer (type)                 Output Shape              Param #   \n",
      "=================================================================\n",
      "input_4 (InputLayer)         [(None, 224, 224, 3)]     0         \n",
      "_________________________________________________________________\n",
      "vgg16 (Model)                (None, 7, 7, 512)         14714688  \n",
      "_________________________________________________________________\n",
      "global_average_pooling2d_1 ( (None, 512)               0         \n",
      "_________________________________________________________________\n",
      "dropout_1 (Dropout)          (None, 512)               0         \n",
      "_________________________________________________________________\n",
      "dense_1 (Dense)              (None, 2)                 1026      \n",
      "=================================================================\n",
      "Total params: 14,715,714\n",
      "Trainable params: 1,026\n",
      "Non-trainable params: 14,714,688\n",
      "_________________________________________________________________\n",
      "<class 'tensorflow.python.keras.engine.training.Model'>\n"
     ]
    }
   ],
   "source": [
    "# Load the VGG16 base model\n",
    "vgg16_base_model_stage1 = VGG16(input_shape=(224, 224, 3), include_top=False, weights='imagenet')\n",
    "vgg16_base_model_stage1.trainable = False  # Freeze the base model\n",
    "\n",
    "# Define the input layer\n",
    "inputs = tensorflow.keras.Input(shape=(224, 224, 3))\n",
    "\n",
    "# Extract features using the base model\n",
    "features_extracted = vgg16_base_model_stage1(inputs)\n",
    "\n",
    "# Apply global average pooling\n",
    "avg_pooling = layers.GlobalAveragePooling2D()(features_extracted)\n",
    "\n",
    "# Add Dropout for regularization\n",
    "dropout = layers.Dropout(0.5)(avg_pooling)\n",
    "\n",
    "# Add the final Dense layer for classification\n",
    "outputs = layers.Dense(2, activation='softmax')(dropout)\n",
    "\n",
    "# Create the final model\n",
    "final_model_stage1 = Model(inputs, outputs)\n",
    "\n",
    "# Print the model summary\n",
    "final_model_stage1.summary()\n",
    "\n",
    "# Check the type of the model\n",
    "print(type(final_model_stage1))\n",
    "\n",
    "\n",
    "\n",
    "# Load the VGG16 base model\n",
    "vgg16_base_model_stage2 = VGG16(input_shape=(224, 224, 3), include_top=False, weights='imagenet')\n",
    "vgg16_base_model_stage2.trainable = False  # Freeze the base model\n",
    "\n",
    "# Define the input layer\n",
    "inputs = tensorflow.keras.Input(shape=(224, 224, 3))\n",
    "\n",
    "# Extract features using the base model\n",
    "features_extracted = vgg16_base_model_stage2(inputs)\n",
    "\n",
    "# Apply global average pooling\n",
    "avg_pooling = layers.GlobalAveragePooling2D()(features_extracted)\n",
    "\n",
    "# Add Dropout for regularization\n",
    "dropout = layers.Dropout(0.5)(avg_pooling)\n",
    "\n",
    "# Add the final Dense layer for classification\n",
    "outputs = layers.Dense(2, activation='softmax')(dropout)\n",
    "\n",
    "# Create the final model\n",
    "final_model_stage2 = Model(inputs, outputs)\n",
    "\n",
    "# Print the model summary\n",
    "final_model_stage2.summary()\n",
    "\n",
    "# Check the type of the model\n",
    "print(type(final_model_stage2))"
   ]
  },
  {
   "cell_type": "code",
   "execution_count": 7,
   "id": "94aab530",
   "metadata": {},
   "outputs": [
    {
     "name": "stdout",
     "output_type": "stream",
     "text": [
      "Number of layers in the base model:  19\n",
      "['input_1', 'block1_conv1', 'block1_conv2', 'block1_pool', 'block2_conv1', 'block2_conv2', 'block2_pool', 'block3_conv1', 'block3_conv2', 'block3_conv3', 'block3_pool', 'block4_conv1', 'block4_conv2', 'block4_conv3', 'block4_pool', 'block5_conv1', 'block5_conv2', 'block5_conv3', 'block5_pool']\n",
      "Number of layers in the base model:  19\n",
      "['input_3', 'block1_conv1', 'block1_conv2', 'block1_pool', 'block2_conv1', 'block2_conv2', 'block2_pool', 'block3_conv1', 'block3_conv2', 'block3_conv3', 'block3_pool', 'block4_conv1', 'block4_conv2', 'block4_conv3', 'block4_pool', 'block5_conv1', 'block5_conv2', 'block5_conv3', 'block5_pool']\n",
      "Model: \"model\"\n",
      "_________________________________________________________________\n",
      "Layer (type)                 Output Shape              Param #   \n",
      "=================================================================\n",
      "input_2 (InputLayer)         [(None, 224, 224, 3)]     0         \n",
      "_________________________________________________________________\n",
      "vgg16 (Model)                (None, 7, 7, 512)         14714688  \n",
      "_________________________________________________________________\n",
      "global_average_pooling2d (Gl (None, 512)               0         \n",
      "_________________________________________________________________\n",
      "dropout (Dropout)            (None, 512)               0         \n",
      "_________________________________________________________________\n",
      "dense (Dense)                (None, 2)                 1026      \n",
      "=================================================================\n",
      "Total params: 14,715,714\n",
      "Trainable params: 1,026\n",
      "Non-trainable params: 14,714,688\n",
      "_________________________________________________________________\n",
      "Model: \"model_1\"\n",
      "_________________________________________________________________\n",
      "Layer (type)                 Output Shape              Param #   \n",
      "=================================================================\n",
      "input_4 (InputLayer)         [(None, 224, 224, 3)]     0         \n",
      "_________________________________________________________________\n",
      "vgg16 (Model)                (None, 7, 7, 512)         14714688  \n",
      "_________________________________________________________________\n",
      "global_average_pooling2d_1 ( (None, 512)               0         \n",
      "_________________________________________________________________\n",
      "dropout_1 (Dropout)          (None, 512)               0         \n",
      "_________________________________________________________________\n",
      "dense_1 (Dense)              (None, 2)                 1026      \n",
      "=================================================================\n",
      "Total params: 14,715,714\n",
      "Trainable params: 1,026\n",
      "Non-trainable params: 14,714,688\n",
      "_________________________________________________________________\n"
     ]
    }
   ],
   "source": [
    "X_train_stage1 = X_train_stage1 / 255.0\n",
    "X_train_stage2 = X_train_stage2 / 255.0\n",
    "\n",
    "X_test_stage1 = X_test_stage1 / 255.0\n",
    "X_test_stage2 = X_test_stage2 / 255.0\n",
    "\n",
    "\n",
    "# how many layers are in the base model?\n",
    "print(\"Number of layers in the base model: \", len(vgg16_base_model_stage1.layers))\n",
    "\n",
    "vgg16_layers_stage1 = [layer.name for layer in vgg16_base_model_stage1.layers]\n",
    "print(vgg16_layers_stage1)\n",
    "\n",
    "# how many layers are in the base model?\n",
    "print(\"Number of layers in the base model: \", len(vgg16_base_model_stage2.layers))\n",
    "\n",
    "vgg16_layers_stage2 = [layer.name for layer in vgg16_base_model_stage2.layers]\n",
    "print(vgg16_layers_stage2)\n",
    "\n",
    "optimizer = tensorflow.keras.optimizers.Adam(learning_rate=1e-4)\n",
    "final_model_stage1.compile(optimizer=optimizer, loss=\"sparse_categorical_crossentropy\", metrics=['accuracy'])\n",
    "final_model_stage2.compile(optimizer=optimizer, loss=\"sparse_categorical_crossentropy\", metrics=['accuracy'])\n",
    "final_model_stage1.summary()\n",
    "final_model_stage2.summary()"
   ]
  },
  {
   "cell_type": "code",
   "execution_count": 8,
   "id": "3bba0c44",
   "metadata": {},
   "outputs": [
    {
     "name": "stdout",
     "output_type": "stream",
     "text": [
      "Train on 2568 samples, validate on 840 samples\n",
      "Epoch 1/15\n",
      "2568/2568 [==============================] - 27s 10ms/sample - loss: 1.0897 - accuracy: 0.5125 - val_loss: 0.6742 - val_accuracy: 0.6536\n",
      "Epoch 2/15\n",
      "2568/2568 [==============================] - 16s 6ms/sample - loss: 1.0135 - accuracy: 0.4887 - val_loss: 0.6803 - val_accuracy: 0.6536\n",
      "Epoch 3/15\n",
      "2568/2568 [==============================] - 17s 6ms/sample - loss: 0.9123 - accuracy: 0.5222 - val_loss: 0.7012 - val_accuracy: 0.5726\n",
      "Epoch 4/15\n",
      "2568/2568 [==============================] - 16s 6ms/sample - loss: 0.9445 - accuracy: 0.4798 - val_loss: 0.7048 - val_accuracy: 0.5012\n",
      "Epoch 5/15\n",
      "2568/2568 [==============================] - 16s 6ms/sample - loss: 0.8702 - accuracy: 0.5016 - val_loss: 0.7025 - val_accuracy: 0.5071\n",
      "Epoch 6/15\n",
      "2568/2568 [==============================] - 16s 6ms/sample - loss: 0.8399 - accuracy: 0.5093 - val_loss: 0.7037 - val_accuracy: 0.4702\n",
      "Epoch 7/15\n",
      "2568/2568 [==============================] - 17s 6ms/sample - loss: 0.8435 - accuracy: 0.4883 - val_loss: 0.6964 - val_accuracy: 0.5429\n",
      "Epoch 8/15\n",
      "2568/2568 [==============================] - 17s 6ms/sample - loss: 0.7845 - accuracy: 0.5202 - val_loss: 0.6882 - val_accuracy: 0.6000\n",
      "Epoch 9/15\n",
      "2568/2568 [==============================] - 17s 6ms/sample - loss: 0.7870 - accuracy: 0.5051 - val_loss: 0.6852 - val_accuracy: 0.6107\n",
      "Epoch 10/15\n",
      "2568/2568 [==============================] - 17s 7ms/sample - loss: 0.7674 - accuracy: 0.5121 - val_loss: 0.6818 - val_accuracy: 0.6214\n",
      "Epoch 11/15\n",
      "2568/2568 [==============================] - 17s 7ms/sample - loss: 0.7367 - accuracy: 0.5234 - val_loss: 0.6809 - val_accuracy: 0.6155\n",
      "Epoch 12/15\n",
      "2568/2568 [==============================] - 17s 7ms/sample - loss: 0.7295 - accuracy: 0.5265 - val_loss: 0.6750 - val_accuracy: 0.6310\n",
      "Epoch 13/15\n",
      "2568/2568 [==============================] - 17s 7ms/sample - loss: 0.7199 - accuracy: 0.5308 - val_loss: 0.6771 - val_accuracy: 0.6048\n",
      "Epoch 14/15\n",
      "2568/2568 [==============================] - 17s 7ms/sample - loss: 0.7065 - accuracy: 0.5533 - val_loss: 0.6735 - val_accuracy: 0.6167\n",
      "Epoch 15/15\n",
      "2568/2568 [==============================] - 17s 7ms/sample - loss: 0.6986 - accuracy: 0.5436 - val_loss: 0.6686 - val_accuracy: 0.6167\n"
     ]
    }
   ],
   "source": [
    "\n",
    "history_stage1 = final_model_stage1.fit(X_train_stage1, Y_train_stage1, batch_size=32, epochs=15, validation_data=(X_test_stage1, Y_test_stage1))"
   ]
  },
  {
   "cell_type": "code",
   "execution_count": 9,
   "id": "97a96147",
   "metadata": {},
   "outputs": [
    {
     "name": "stdout",
     "output_type": "stream",
     "text": [
      "Train on 1353 samples, validate on 549 samples\n",
      "Epoch 1/15\n",
      "1353/1353 [==============================] - 12s 9ms/sample - loss: 0.7051 - accuracy: 0.5425 - val_loss: 0.6880 - val_accuracy: 0.5264\n",
      "Epoch 2/15\n",
      "1353/1353 [==============================] - 10s 7ms/sample - loss: 0.7047 - accuracy: 0.5270 - val_loss: 0.6868 - val_accuracy: 0.5228\n",
      "Epoch 3/15\n",
      "1353/1353 [==============================] - 10s 7ms/sample - loss: 0.7101 - accuracy: 0.5174 - val_loss: 0.6865 - val_accuracy: 0.5337\n",
      "Epoch 4/15\n",
      "1353/1353 [==============================] - 10s 7ms/sample - loss: 0.6918 - accuracy: 0.5684 - val_loss: 0.6863 - val_accuracy: 0.5464\n",
      "Epoch 5/15\n",
      "1353/1353 [==============================] - 10s 7ms/sample - loss: 0.7116 - accuracy: 0.5203 - val_loss: 0.6862 - val_accuracy: 0.5209\n",
      "Epoch 6/15\n",
      "1353/1353 [==============================] - 10s 7ms/sample - loss: 0.7023 - accuracy: 0.5255 - val_loss: 0.6860 - val_accuracy: 0.5373\n",
      "Epoch 7/15\n",
      "1353/1353 [==============================] - 10s 7ms/sample - loss: 0.7011 - accuracy: 0.5381 - val_loss: 0.6856 - val_accuracy: 0.5410\n",
      "Epoch 8/15\n",
      "1353/1353 [==============================] - 10s 7ms/sample - loss: 0.6953 - accuracy: 0.5425 - val_loss: 0.6854 - val_accuracy: 0.5501\n",
      "Epoch 9/15\n",
      "1353/1353 [==============================] - 10s 7ms/sample - loss: 0.6980 - accuracy: 0.5395 - val_loss: 0.6853 - val_accuracy: 0.5173\n",
      "Epoch 10/15\n",
      "1353/1353 [==============================] - 10s 7ms/sample - loss: 0.6866 - accuracy: 0.5639 - val_loss: 0.6851 - val_accuracy: 0.5209\n",
      "Epoch 11/15\n",
      "1353/1353 [==============================] - 10s 7ms/sample - loss: 0.6926 - accuracy: 0.5285 - val_loss: 0.6847 - val_accuracy: 0.5665\n",
      "Epoch 12/15\n",
      "1353/1353 [==============================] - 10s 7ms/sample - loss: 0.6834 - accuracy: 0.5691 - val_loss: 0.6845 - val_accuracy: 0.5355\n",
      "Epoch 13/15\n",
      "1353/1353 [==============================] - 10s 7ms/sample - loss: 0.6847 - accuracy: 0.5528 - val_loss: 0.6842 - val_accuracy: 0.5410\n",
      "Epoch 14/15\n",
      "1353/1353 [==============================] - 10s 7ms/sample - loss: 0.6767 - accuracy: 0.5817 - val_loss: 0.6839 - val_accuracy: 0.5556\n",
      "Epoch 15/15\n",
      "1353/1353 [==============================] - 10s 7ms/sample - loss: 0.6790 - accuracy: 0.5787 - val_loss: 0.6836 - val_accuracy: 0.5628\n"
     ]
    }
   ],
   "source": [
    "history_stage2 = final_model_stage1.fit(X_train_stage2, Y_train_stage2, batch_size=32, epochs=15, validation_data=(X_test_stage2, Y_test_stage2))"
   ]
  },
  {
   "cell_type": "code",
   "execution_count": 10,
   "id": "0a269f51",
   "metadata": {},
   "outputs": [
    {
     "name": "stdout",
     "output_type": "stream",
     "text": [
      "Model: \"model\"\n",
      "_________________________________________________________________\n",
      "Layer (type)                 Output Shape              Param #   \n",
      "=================================================================\n",
      "input_2 (InputLayer)         [(None, 224, 224, 3)]     0         \n",
      "_________________________________________________________________\n",
      "vgg16 (Model)                (None, 7, 7, 512)         14714688  \n",
      "_________________________________________________________________\n",
      "global_average_pooling2d (Gl (None, 512)               0         \n",
      "_________________________________________________________________\n",
      "dropout (Dropout)            (None, 512)               0         \n",
      "_________________________________________________________________\n",
      "dense (Dense)                (None, 2)                 1026      \n",
      "=================================================================\n",
      "Total params: 14,715,714\n",
      "Trainable params: 7,080,450\n",
      "Non-trainable params: 7,635,264\n",
      "_________________________________________________________________\n",
      "Model: \"model_1\"\n",
      "_________________________________________________________________\n",
      "Layer (type)                 Output Shape              Param #   \n",
      "=================================================================\n",
      "input_4 (InputLayer)         [(None, 224, 224, 3)]     0         \n",
      "_________________________________________________________________\n",
      "vgg16 (Model)                (None, 7, 7, 512)         14714688  \n",
      "_________________________________________________________________\n",
      "global_average_pooling2d_1 ( (None, 512)               0         \n",
      "_________________________________________________________________\n",
      "dropout_1 (Dropout)          (None, 512)               0         \n",
      "_________________________________________________________________\n",
      "dense_1 (Dense)              (None, 2)                 1026      \n",
      "=================================================================\n",
      "Total params: 14,715,714\n",
      "Trainable params: 7,080,450\n",
      "Non-trainable params: 7,635,264\n",
      "_________________________________________________________________\n"
     ]
    }
   ],
   "source": [
    "# swithcing on all layers to be trainable\n",
    "vgg16_base_model_stage1.trainable = True\n",
    "\n",
    "# swithcing off(freezing) all layers except the last 4 layers\n",
    "fine_tune_last = 4\n",
    "for layer in vgg16_base_model_stage1.layers[:-fine_tune_last]:\n",
    "    layer.trainable = False\n",
    "\n",
    "\n",
    "optimizer = tensorflow.keras.optimizers.Adam(learning_rate=1e-4)\n",
    "final_model_stage1.compile(optimizer=optimizer, loss=\"sparse_categorical_crossentropy\", metrics=['accuracy'])\n",
    "\n",
    "\n",
    "final_model_stage1.summary()\n",
    "\n",
    "\n",
    "\n",
    "# swithcing on all layers to be trainable\n",
    "vgg16_base_model_stage2.trainable = True\n",
    "\n",
    "# swithcing off(freezing) all layers except the last 4 layers\n",
    "fine_tune_last = 4\n",
    "for layer in vgg16_base_model_stage2.layers[:-fine_tune_last]:\n",
    "    layer.trainable = False\n",
    "\n",
    "\n",
    "optimizer = tensorflow.keras.optimizers.Adam(learning_rate=1e-4)\n",
    "final_model_stage2.compile(optimizer=optimizer, loss=\"sparse_categorical_crossentropy\", metrics=['accuracy'])\n",
    "\n",
    "\n",
    "final_model_stage2.summary()"
   ]
  },
  {
   "cell_type": "code",
   "execution_count": 11,
   "id": "9be0f662",
   "metadata": {},
   "outputs": [
    {
     "name": "stdout",
     "output_type": "stream",
     "text": [
      "Train on 2568 samples, validate on 840 samples\n",
      "Epoch 1/15\n",
      "2568/2568 [==============================] - 20s 8ms/sample - loss: 0.4511 - accuracy: 0.7854 - val_loss: 0.3136 - val_accuracy: 0.8393\n",
      "Epoch 2/15\n",
      "2568/2568 [==============================] - 19s 7ms/sample - loss: 0.1313 - accuracy: 0.9521 - val_loss: 0.2288 - val_accuracy: 0.9071\n",
      "Epoch 3/15\n",
      "2568/2568 [==============================] - 19s 7ms/sample - loss: 0.0358 - accuracy: 0.9887 - val_loss: 0.7030 - val_accuracy: 0.8226\n",
      "Epoch 4/15\n",
      "2568/2568 [==============================] - 19s 7ms/sample - loss: 0.0142 - accuracy: 0.9969 - val_loss: 0.2905 - val_accuracy: 0.9083\n",
      "Epoch 5/15\n",
      "2568/2568 [==============================] - 19s 7ms/sample - loss: 0.0112 - accuracy: 0.9969 - val_loss: 0.2173 - val_accuracy: 0.9119\n",
      "Epoch 6/15\n",
      "2568/2568 [==============================] - 19s 7ms/sample - loss: 0.0048 - accuracy: 0.9996 - val_loss: 0.3567 - val_accuracy: 0.8750\n",
      "Epoch 7/15\n",
      "2568/2568 [==============================] - 19s 7ms/sample - loss: 0.0015 - accuracy: 1.0000 - val_loss: 0.1740 - val_accuracy: 0.9393\n",
      "Epoch 8/15\n",
      "2568/2568 [==============================] - 19s 8ms/sample - loss: 2.1015e-04 - accuracy: 1.0000 - val_loss: 0.2191 - val_accuracy: 0.9262\n",
      "Epoch 9/15\n",
      "2568/2568 [==============================] - 20s 8ms/sample - loss: 3.0271e-04 - accuracy: 1.0000 - val_loss: 0.2963 - val_accuracy: 0.9095\n",
      "Epoch 10/15\n",
      "2568/2568 [==============================] - 20s 8ms/sample - loss: 1.3925e-04 - accuracy: 1.0000 - val_loss: 0.2341 - val_accuracy: 0.9238\n",
      "Epoch 11/15\n",
      "2568/2568 [==============================] - 20s 8ms/sample - loss: 7.9739e-05 - accuracy: 1.0000 - val_loss: 0.2711 - val_accuracy: 0.9179\n",
      "Epoch 12/15\n",
      "2568/2568 [==============================] - 20s 8ms/sample - loss: 7.7835e-05 - accuracy: 1.0000 - val_loss: 0.2430 - val_accuracy: 0.9226\n",
      "Epoch 13/15\n",
      "2568/2568 [==============================] - 20s 8ms/sample - loss: 6.8354e-05 - accuracy: 1.0000 - val_loss: 0.2534 - val_accuracy: 0.9202\n",
      "Epoch 14/15\n",
      "2568/2568 [==============================] - 20s 8ms/sample - loss: 1.3939e-04 - accuracy: 1.0000 - val_loss: 0.3116 - val_accuracy: 0.9131\n",
      "Epoch 15/15\n",
      "2568/2568 [==============================] - 20s 8ms/sample - loss: 4.5589e-05 - accuracy: 1.0000 - val_loss: 0.2585 - val_accuracy: 0.9167\n"
     ]
    }
   ],
   "source": [
    "history_fine_stage1 = final_model_stage1.fit(X_train_stage1, Y_train_stage1, batch_size=32, epochs=15, validation_data=(X_test_stage1, Y_test_stage1))"
   ]
  },
  {
   "cell_type": "code",
   "execution_count": 12,
   "id": "97ddd20d",
   "metadata": {},
   "outputs": [
    {
     "name": "stdout",
     "output_type": "stream",
     "text": [
      "Train on 1353 samples, validate on 549 samples\n",
      "Epoch 1/15\n",
      "1353/1353 [==============================] - 12s 9ms/sample - loss: 0.6125 - accuracy: 0.6637 - val_loss: 0.8317 - val_accuracy: 0.5209\n",
      "Epoch 2/15\n",
      "1353/1353 [==============================] - 11s 8ms/sample - loss: 0.3918 - accuracy: 0.8234 - val_loss: 0.9702 - val_accuracy: 0.5811\n",
      "Epoch 3/15\n",
      "1353/1353 [==============================] - 11s 8ms/sample - loss: 0.1559 - accuracy: 0.9542 - val_loss: 1.3548 - val_accuracy: 0.5920\n",
      "Epoch 4/15\n",
      "1353/1353 [==============================] - 11s 8ms/sample - loss: 0.0456 - accuracy: 0.9882 - val_loss: 1.9500 - val_accuracy: 0.6211\n",
      "Epoch 5/15\n",
      "1353/1353 [==============================] - 11s 8ms/sample - loss: 0.0216 - accuracy: 0.9948 - val_loss: 2.1230 - val_accuracy: 0.5774\n",
      "Epoch 6/15\n",
      "1353/1353 [==============================] - 11s 8ms/sample - loss: 0.0074 - accuracy: 0.9985 - val_loss: 2.1458 - val_accuracy: 0.5719\n",
      "Epoch 7/15\n",
      "1353/1353 [==============================] - 11s 8ms/sample - loss: 0.0027 - accuracy: 1.0000 - val_loss: 2.3469 - val_accuracy: 0.6047\n",
      "Epoch 8/15\n",
      "1353/1353 [==============================] - 11s 8ms/sample - loss: 0.0013 - accuracy: 1.0000 - val_loss: 2.4298 - val_accuracy: 0.5719\n",
      "Epoch 9/15\n",
      "1353/1353 [==============================] - 11s 8ms/sample - loss: 7.8317e-04 - accuracy: 1.0000 - val_loss: 2.5171 - val_accuracy: 0.5865\n",
      "Epoch 10/15\n",
      "1353/1353 [==============================] - 11s 8ms/sample - loss: 0.0011 - accuracy: 1.0000 - val_loss: 2.5775 - val_accuracy: 0.6230\n",
      "Epoch 11/15\n",
      "1353/1353 [==============================] - 11s 8ms/sample - loss: 6.2625e-04 - accuracy: 1.0000 - val_loss: 2.9038 - val_accuracy: 0.5665\n",
      "Epoch 12/15\n",
      "1353/1353 [==============================] - 11s 8ms/sample - loss: 3.1536e-04 - accuracy: 1.0000 - val_loss: 2.9376 - val_accuracy: 0.5847\n",
      "Epoch 13/15\n",
      "1353/1353 [==============================] - 11s 8ms/sample - loss: 1.9856e-04 - accuracy: 1.0000 - val_loss: 2.9237 - val_accuracy: 0.6029\n",
      "Epoch 14/15\n",
      "1353/1353 [==============================] - 11s 8ms/sample - loss: 1.6550e-04 - accuracy: 1.0000 - val_loss: 3.1636 - val_accuracy: 0.5719\n",
      "Epoch 15/15\n",
      "1353/1353 [==============================] - 11s 8ms/sample - loss: 2.4766e-04 - accuracy: 1.0000 - val_loss: 3.2695 - val_accuracy: 0.5592\n"
     ]
    }
   ],
   "source": [
    "history_fine_stage2 = final_model_stage2.fit(X_train_stage2, Y_train_stage2, batch_size=32, epochs=15, validation_data=(X_test_stage2, Y_test_stage2))"
   ]
  },
  {
   "cell_type": "code",
   "execution_count": 13,
   "id": "76025272",
   "metadata": {},
   "outputs": [
    {
     "name": "stdout",
     "output_type": "stream",
     "text": [
      "840/840 [==============================] - 5s 5ms/sample - loss: 0.2585 - accuracy: 0.9167\n",
      "Test loss stage 1: 0.25848703661135264\n",
      "Test accuracy stage 1: 0.9166667\n",
      "549/549 [==============================] - 3s 5ms/sample - loss: 3.2695 - accuracy: 0.5592\n",
      "Test loss stage 2: 3.2694901091153503\n",
      "Test accuracy stage 2: 0.55919856\n"
     ]
    }
   ],
   "source": [
    "# Evaluate the model\n",
    "scores_stage1 = final_model_stage1.evaluate(X_test_stage1, Y_test_stage1, verbose=1)\n",
    "print('Test loss stage 1:', scores_stage1[0])\n",
    "print('Test accuracy stage 1:', scores_stage1[1])\n",
    "\n",
    "\n",
    "# Evaluate the model\n",
    "scores_stage2 = final_model_stage2.evaluate(X_test_stage2, Y_test_stage2, verbose=1)\n",
    "print('Test loss stage 2:', scores_stage2[0])\n",
    "print('Test accuracy stage 2:', scores_stage2[1])"
   ]
  },
  {
   "cell_type": "code",
   "execution_count": 14,
   "id": "7e7d9a4f",
   "metadata": {},
   "outputs": [],
   "source": [
    "def plot_confusion(y_true, y_pred, labels, title):\n",
    "    cm = confusion_matrix(y_true, y_pred)\n",
    "    disp = ConfusionMatrixDisplay(confusion_matrix=cm, display_labels=labels)\n",
    "    disp.plot(cmap=plt.cm.Blues, xticks_rotation=45)\n",
    "    plt.title(title)\n",
    "    plt.show()\n",
    "    print(classification_report(y_true, y_pred, target_names=labels))"
   ]
  },
  {
   "cell_type": "code",
   "execution_count": null,
   "id": "66b8c433",
   "metadata": {},
   "outputs": [
    {
     "name": "stdout",
     "output_type": "stream",
     "text": [
      "840/840 [==============================] - 5s 6ms/sample\n",
      "              precision    recall  f1-score   support\n",
      "\n",
      "           0       0.91      0.84      0.87       291\n",
      "           1       0.92      0.96      0.94       549\n",
      "\n",
      "    accuracy                           0.92       840\n",
      "   macro avg       0.92      0.90      0.91       840\n",
      "weighted avg       0.92      0.92      0.92       840\n",
      "\n"
     ]
    },
    {
     "data": {
      "image/png": "[encoded data removed]",
      "text/plain": [
       "<Figure size 640x480 with 2 Axes>"
      ]
     },
     "metadata": {},
     "output_type": "display_data"
    },
    {
     "name": "stdout",
     "output_type": "stream",
     "text": [
      "              precision    recall  f1-score   support\n",
      "\n",
      "          AD       0.91      0.84      0.87       291\n",
      "      Not_AD       0.92      0.96      0.94       549\n",
      "\n",
      "    accuracy                           0.92       840\n",
      "   macro avg       0.92      0.90      0.91       840\n",
      "weighted avg       0.92      0.92      0.92       840\n",
      "\n"
     ]
    }
   ],
   "source": [
    "y_pred_stage1 = final_model_stage1.predict(X_test_stage1, batch_size=32, verbose=1)\n",
    "y_pred_bool_stage1 = np.argmax(y_pred_stage1, axis=1)\n",
    "print(classification_report(Y_test_stage1, y_pred_bool_stage1))\n",
    "plot_confusion(Y_test_stage1, y_pred_bool_stage1, labels=[\"CN\", \"Not_CN\"], title=\"Matriz Etapa 1\")"
   ]
  },
  {
   "cell_type": "code",
   "execution_count": null,
   "id": "35bbee0a",
   "metadata": {},
   "outputs": [
    {
     "name": "stdout",
     "output_type": "stream",
     "text": [
      "549/549 [==============================] - 3s 6ms/sample\n",
      "              precision    recall  f1-score   support\n",
      "\n",
      "           0       0.58      0.43      0.50       276\n",
      "           1       0.55      0.68      0.61       273\n",
      "\n",
      "    accuracy                           0.56       549\n",
      "   macro avg       0.56      0.56      0.55       549\n",
      "weighted avg       0.56      0.56      0.55       549\n",
      "\n"
     ]
    },
    {
     "data": {
      "image/png": "[encoded data removed]",
      "text/plain": [
       "<Figure size 640x480 with 2 Axes>"
      ]
     },
     "metadata": {},
     "output_type": "display_data"
    },
    {
     "name": "stdout",
     "output_type": "stream",
     "text": [
      "              precision    recall  f1-score   support\n",
      "\n",
      "          CN       0.58      0.43      0.50       276\n",
      "        LMCI       0.55      0.68      0.61       273\n",
      "\n",
      "    accuracy                           0.56       549\n",
      "   macro avg       0.56      0.56      0.55       549\n",
      "weighted avg       0.56      0.56      0.55       549\n",
      "\n"
     ]
    }
   ],
   "source": [
    "y_pred_stage2 = final_model_stage2.predict(X_test_stage2, batch_size=32, verbose=1)\n",
    "y_pred_bool_stage2 = np.argmax(y_pred_stage2, axis=1)\n",
    "print(classification_report(Y_test_stage2, y_pred_bool_stage2))\n",
    "plot_confusion(Y_test_stage2, y_pred_bool_stage2, labels=[\"AD\", \"LMCI\"], title=\"Matriz Etapa 2\")"
   ]
  },
  {
   "cell_type": "code",
   "execution_count": null,
   "id": "dab30e8e",
   "metadata": {},
   "outputs": [
    {
     "name": "stdout",
     "output_type": "stream",
     "text": [
      "\n",
      "🧪 Evaluando Cascada completa (CN vs MCI vs AD)...\n"
     ]
    },
    {
     "data": {
      "image/png": "[encoded data removed]",
      "text/plain": [
       "<Figure size 640x480 with 2 Axes>"
      ]
     },
     "metadata": {},
     "output_type": "display_data"
    },
    {
     "name": "stdout",
     "output_type": "stream",
     "text": [
      "              precision    recall  f1-score   support\n",
      "\n",
      "          AD       0.91      0.84      0.87       291\n",
      "        LMCI       0.49      0.68      0.57       273\n",
      "          CN       0.55      0.38      0.45       276\n",
      "\n",
      "    accuracy                           0.64       840\n",
      "   macro avg       0.65      0.64      0.63       840\n",
      "weighted avg       0.66      0.64      0.64       840\n",
      "\n"
     ]
    }
   ],
   "source": [
    "# -------------------- VALIDACIÓN CASCADA COMPLETA --------------------\n",
    "print(\"\\n🧪 Evaluando Cascada completa (CN vs MCI vs AD)...\")\n",
    "\n",
    "# Cargar todas las imágenes para evaluación final\n",
    "data_path_test = \"DATA_BASE\\\\DATA_BASE_TEST\\\\IMAGES_PREPROCESSED_TEST\\\\CLEAN\"\n",
    "categories = [\"CN\", \"LMCI\", \"AD\"]\n",
    "img_size = 224\n",
    "\n",
    "X_all = []\n",
    "Y_all = []\n",
    "\n",
    "label_map = {\"CN\": 0, \"LMCI\": 1, \"AD\": 2}\n",
    "for cat in categories:\n",
    "    path = os.path.join(data_path_test, cat)\n",
    "    for img in os.listdir(path):\n",
    "        img_array = cv2.imread(os.path.join(path, img))\n",
    "        if img_array is not None:\n",
    "            resized = cv2.resize(img_array, (img_size, img_size))\n",
    "            X_all.append(resized)\n",
    "            Y_all.append(label_map[cat])\n",
    "\n",
    "X_all = np.array(X_all).reshape(-1, img_size, img_size, 3) / 255.0\n",
    "Y_all = np.array(Y_all)\n",
    "\n",
    "# Predicción en cascada\n",
    "y_pred_final = []\n",
    "for img in X_all:\n",
    "    img_exp = np.expand_dims(img, axis=0)\n",
    "    pred1 = final_model_stage1.predict(img_exp)\n",
    "    if np.argmax(pred1) == 0:\n",
    "        y_pred_final.append(0)  # CN\n",
    "    else:\n",
    "        pred2 = final_model_stage2.predict(img_exp)\n",
    "        y_pred_final.append(2 if np.argmax(pred2) == 0 else 1)  # AD:2 / LMCI:1\n",
    "\n",
    "plot_confusion(Y_all, y_pred_final, labels=[\"CN\", \"LMCI\", \"AD\"], title=\"Matriz Final - Clasificador en Cascada\")"
   ]
  },
  {
   "cell_type": "code",
   "execution_count": null,
   "id": "94cd1a0c",
   "metadata": {},
   "outputs": [],
   "source": []
  }
 ],
 "metadata": {
  "kernelspec": {
   "display_name": "entornoGPU1",
   "language": "python",
   "name": "python3"
  },
  "language_info": {
   "codemirror_mode": {
    "name": "ipython",
    "version": 3
   },
   "file_extension": ".py",
   "mimetype": "text/x-python",
   "name": "python",
   "nbconvert_exporter": "python",
   "pygments_lexer": "ipython3",
   "version": "3.7.12"
  }
 },
 "nbformat": 4,
 "nbformat_minor": 5
}
