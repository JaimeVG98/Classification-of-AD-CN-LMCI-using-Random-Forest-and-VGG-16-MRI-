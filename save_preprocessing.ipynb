{
 "cells": [
  {
   "cell_type": "code",
   "execution_count": 1,
   "metadata": {},
   "outputs": [
    {
     "name": "stdout",
     "output_type": "stream",
     "text": [
      "Requirement already satisfied: pydicom in c:\\users\\user\\appdata\\local\\packages\\pythonsoftwarefoundation.python.3.11_qbz5n2kfra8p0\\localcache\\local-packages\\python311\\site-packages (2.4.4)\n",
      "Note: you may need to restart the kernel to use updated packages.\n"
     ]
    },
    {
     "name": "stderr",
     "output_type": "stream",
     "text": [
      "\n",
      "[notice] A new release of pip is available: 24.0 -> 24.1.2\n",
      "[notice] To update, run: C:\\Users\\User\\AppData\\Local\\Microsoft\\WindowsApps\\PythonSoftwareFoundation.Python.3.11_qbz5n2kfra8p0\\python.exe -m pip install --upgrade pip\n"
     ]
    },
    {
     "name": "stdout",
     "output_type": "stream",
     "text": [
      "Requirement already satisfied: numpy in c:\\users\\user\\appdata\\local\\packages\\pythonsoftwarefoundation.python.3.11_qbz5n2kfra8p0\\localcache\\local-packages\\python311\\site-packages (1.26.4)\n",
      "Note: you may need to restart the kernel to use updated packages.\n"
     ]
    },
    {
     "name": "stderr",
     "output_type": "stream",
     "text": [
      "\n",
      "[notice] A new release of pip is available: 24.0 -> 24.1.2\n",
      "[notice] To update, run: C:\\Users\\User\\AppData\\Local\\Microsoft\\WindowsApps\\PythonSoftwareFoundation.Python.3.11_qbz5n2kfra8p0\\python.exe -m pip install --upgrade pip\n"
     ]
    },
    {
     "name": "stdout",
     "output_type": "stream",
     "text": [
      "Requirement already satisfied: matplotlib in c:\\users\\user\\appdata\\local\\packages\\pythonsoftwarefoundation.python.3.11_qbz5n2kfra8p0\\localcache\\local-packages\\python311\\site-packages (3.8.3)\n",
      "Requirement already satisfied: contourpy>=1.0.1 in c:\\users\\user\\appdata\\local\\packages\\pythonsoftwarefoundation.python.3.11_qbz5n2kfra8p0\\localcache\\local-packages\\python311\\site-packages (from matplotlib) (1.2.0)\n",
      "Requirement already satisfied: cycler>=0.10 in c:\\users\\user\\appdata\\local\\packages\\pythonsoftwarefoundation.python.3.11_qbz5n2kfra8p0\\localcache\\local-packages\\python311\\site-packages (from matplotlib) (0.12.1)\n",
      "Requirement already satisfied: fonttools>=4.22.0 in c:\\users\\user\\appdata\\local\\packages\\pythonsoftwarefoundation.python.3.11_qbz5n2kfra8p0\\localcache\\local-packages\\python311\\site-packages (from matplotlib) (4.50.0)\n",
      "Requirement already satisfied: kiwisolver>=1.3.1 in c:\\users\\user\\appdata\\local\\packages\\pythonsoftwarefoundation.python.3.11_qbz5n2kfra8p0\\localcache\\local-packages\\python311\\site-packages (from matplotlib) (1.4.5)\n",
      "Requirement already satisfied: numpy<2,>=1.21 in c:\\users\\user\\appdata\\local\\packages\\pythonsoftwarefoundation.python.3.11_qbz5n2kfra8p0\\localcache\\local-packages\\python311\\site-packages (from matplotlib) (1.26.4)\n",
      "Requirement already satisfied: packaging>=20.0 in c:\\users\\user\\appdata\\local\\packages\\pythonsoftwarefoundation.python.3.11_qbz5n2kfra8p0\\localcache\\local-packages\\python311\\site-packages (from matplotlib) (24.0)\n",
      "Requirement already satisfied: pillow>=8 in c:\\users\\user\\appdata\\local\\packages\\pythonsoftwarefoundation.python.3.11_qbz5n2kfra8p0\\localcache\\local-packages\\python311\\site-packages (from matplotlib) (10.3.0)\n",
      "Requirement already satisfied: pyparsing>=2.3.1 in c:\\users\\user\\appdata\\local\\packages\\pythonsoftwarefoundation.python.3.11_qbz5n2kfra8p0\\localcache\\local-packages\\python311\\site-packages (from matplotlib) (3.1.2)\n",
      "Requirement already satisfied: python-dateutil>=2.7 in c:\\users\\user\\appdata\\local\\packages\\pythonsoftwarefoundation.python.3.11_qbz5n2kfra8p0\\localcache\\local-packages\\python311\\site-packages (from matplotlib) (2.9.0.post0)\n",
      "Requirement already satisfied: six>=1.5 in c:\\users\\user\\appdata\\local\\packages\\pythonsoftwarefoundation.python.3.11_qbz5n2kfra8p0\\localcache\\local-packages\\python311\\site-packages (from python-dateutil>=2.7->matplotlib) (1.16.0)\n",
      "Note: you may need to restart the kernel to use updated packages.\n"
     ]
    },
    {
     "name": "stderr",
     "output_type": "stream",
     "text": [
      "\n",
      "[notice] A new release of pip is available: 24.0 -> 24.1.2\n",
      "[notice] To update, run: C:\\Users\\User\\AppData\\Local\\Microsoft\\WindowsApps\\PythonSoftwareFoundation.Python.3.11_qbz5n2kfra8p0\\python.exe -m pip install --upgrade pip\n"
     ]
    },
    {
     "name": "stdout",
     "output_type": "stream",
     "text": [
      "Requirement already satisfied: scikit-image in c:\\users\\user\\appdata\\local\\packages\\pythonsoftwarefoundation.python.3.11_qbz5n2kfra8p0\\localcache\\local-packages\\python311\\site-packages (0.23.2)\n",
      "Requirement already satisfied: numpy>=1.23 in c:\\users\\user\\appdata\\local\\packages\\pythonsoftwarefoundation.python.3.11_qbz5n2kfra8p0\\localcache\\local-packages\\python311\\site-packages (from scikit-image) (1.26.4)\n",
      "Requirement already satisfied: scipy>=1.9 in c:\\users\\user\\appdata\\local\\packages\\pythonsoftwarefoundation.python.3.11_qbz5n2kfra8p0\\localcache\\local-packages\\python311\\site-packages (from scikit-image) (1.13.0)\n",
      "Requirement already satisfied: networkx>=2.8 in c:\\users\\user\\appdata\\local\\packages\\pythonsoftwarefoundation.python.3.11_qbz5n2kfra8p0\\localcache\\local-packages\\python311\\site-packages (from scikit-image) (3.3)\n",
      "Requirement already satisfied: pillow>=9.1 in c:\\users\\user\\appdata\\local\\packages\\pythonsoftwarefoundation.python.3.11_qbz5n2kfra8p0\\localcache\\local-packages\\python311\\site-packages (from scikit-image) (10.3.0)\n",
      "Requirement already satisfied: imageio>=2.33 in c:\\users\\user\\appdata\\local\\packages\\pythonsoftwarefoundation.python.3.11_qbz5n2kfra8p0\\localcache\\local-packages\\python311\\site-packages (from scikit-image) (2.34.1)\n",
      "Requirement already satisfied: tifffile>=2022.8.12 in c:\\users\\user\\appdata\\local\\packages\\pythonsoftwarefoundation.python.3.11_qbz5n2kfra8p0\\localcache\\local-packages\\python311\\site-packages (from scikit-image) (2024.5.10)\n",
      "Requirement already satisfied: packaging>=21 in c:\\users\\user\\appdata\\local\\packages\\pythonsoftwarefoundation.python.3.11_qbz5n2kfra8p0\\localcache\\local-packages\\python311\\site-packages (from scikit-image) (24.0)\n",
      "Requirement already satisfied: lazy-loader>=0.4 in c:\\users\\user\\appdata\\local\\packages\\pythonsoftwarefoundation.python.3.11_qbz5n2kfra8p0\\localcache\\local-packages\\python311\\site-packages (from scikit-image) (0.4)\n",
      "Note: you may need to restart the kernel to use updated packages.\n"
     ]
    },
    {
     "name": "stderr",
     "output_type": "stream",
     "text": [
      "\n",
      "[notice] A new release of pip is available: 24.0 -> 24.1.2\n",
      "[notice] To update, run: C:\\Users\\User\\AppData\\Local\\Microsoft\\WindowsApps\\PythonSoftwareFoundation.Python.3.11_qbz5n2kfra8p0\\python.exe -m pip install --upgrade pip\n"
     ]
    }
   ],
   "source": [
    "%pip install pydicom\n",
    "#%pip install pillow\n",
    "%pip install numpy\n",
    "%pip install matplotlib\n",
    "%pip install scikit-image"
   ]
  },
  {
   "cell_type": "code",
   "execution_count": 1,
   "metadata": {},
   "outputs": [],
   "source": [
    "import pydicom\n",
    "import numpy as np\n",
    "from PIL import Image\n",
    "import os\n",
    "#import cv2\n",
    "import matplotlib.pyplot as plt\n",
    "from skimage import morphology\n",
    "from scipy import ndimage"
   ]
  },
  {
   "cell_type": "code",
   "execution_count": 32,
   "metadata": {},
   "outputs": [],
   "source": [
    "file_path = r'D:\\Jaime_Andres\\Univalle\\TESIS ULTIMA OPORTUNIDAD\\tesis_ultima_oportunidad\\DataSet\\prueba1\\DATA_BASE\\DATA_BASE_TEST\\LMCI_TEST\\LMCI\\\\'\n",
    "def get_names(file_path):\n",
    "    names = []\n",
    "    for root, dirnames, filenames in os.walk(file_path):\n",
    "        for filename in filenames:\n",
    "            x , ext = os.path.splitext(filename)\n",
    "            if ext in ['.dcm']:\n",
    "                names.append(x)\n",
    "    \n",
    "    return names\n"
   ]
  },
  {
   "cell_type": "code",
   "execution_count": 33,
   "metadata": {},
   "outputs": [],
   "source": [
    "\n",
    "def remove_noise_from_image(file_path, slice_num=0, display=False):\n",
    "    medical_image = pydicom.read_file(file_path + name + '.dcm')\n",
    "    image = medical_image.pixel_array\n",
    "    shape = image.shape\n",
    "\n",
    "    image_2d = image\n",
    "\n",
    "    mask = image_2d <= 10\n",
    "    selem = morphology.disk(2)\n",
    "\n",
    "    segmentation = morphology.dilation(mask, selem)\n",
    "    labels, label_nb = ndimage.label(segmentation)\n",
    "\n",
    "    mask = labels == 0\n",
    "    \n",
    "    mask = morphology.dilation(mask, selem)\n",
    "    mask = ndimage.morphology.binary_fill_holes(mask)\n",
    "    mask = morphology.dilation(mask, selem)\n",
    "    \n",
    "    clean_image = mask * image_2d\n",
    "\n",
    "\n",
    "    return clean_image"
   ]
  },
  {
   "cell_type": "code",
   "execution_count": 34,
   "metadata": {},
   "outputs": [],
   "source": [
    "def add_pad(clean_image, new_height=256, new_width=256):\n",
    "    height, width = clean_image.shape\n",
    "\n",
    "    final_image = np.zeros((new_height, new_width))\n",
    "\n",
    "    pad_left = int((new_width - width) / 2)\n",
    "    pad_top = int((new_height - height) / 2)\n",
    "    \n",
    "    # Replace the pixels with the image's pixels\n",
    "    final_image[pad_top:pad_top + height, pad_left:pad_left + width] = clean_image\n",
    "    \n",
    "    return final_image"
   ]
  },
  {
   "cell_type": "code",
   "execution_count": 35,
   "metadata": {},
   "outputs": [],
   "source": [
    "def standardization(image):\n",
    "    # Get brain mask\n",
    "    mask = image == 0\n",
    "    \n",
    "    selem = morphology.disk(2)\n",
    "    \n",
    "    segmentation = morphology.dilation(mask, selem)\n",
    "    labels, label_nb = ndimage.label(segmentation)\n",
    "\n",
    "    mask = labels == 0\n",
    "    \n",
    "    mask = morphology.dilation(mask, selem)\n",
    "    mask = ndimage.morphology.binary_fill_holes(mask)\n",
    "    mask = morphology.dilation(mask, selem)\n",
    "    \n",
    "    # Normalize\n",
    "    \n",
    "    mean = image[mask].mean()\n",
    "    std = image[mask].std()\n",
    "    \n",
    "    normalized_image = (image - mean) / std\n",
    "    \n",
    "    return normalized_image"
   ]
  },
  {
   "cell_type": "code",
   "execution_count": 36,
   "metadata": {},
   "outputs": [
    {
     "name": "stderr",
     "output_type": "stream",
     "text": [
      "C:\\Users\\javil\\AppData\\Local\\Temp\\ipykernel_18460\\3884682074.py:17: DeprecationWarning: Please import `binary_fill_holes` from the `scipy.ndimage` namespace; the `scipy.ndimage.morphology` namespace is deprecated and will be removed in SciPy 2.0.0.\n",
      "  mask = ndimage.morphology.binary_fill_holes(mask)\n",
      "C:\\Users\\javil\\AppData\\Local\\Temp\\ipykernel_18460\\3186814896.py:13: DeprecationWarning: Please import `binary_fill_holes` from the `scipy.ndimage` namespace; the `scipy.ndimage.morphology` namespace is deprecated and will be removed in SciPy 2.0.0.\n",
      "  mask = ndimage.morphology.binary_fill_holes(mask)\n",
      "C:\\Users\\javil\\AppData\\Local\\Temp\\ipykernel_18460\\3186814896.py:18: RuntimeWarning: Mean of empty slice.\n",
      "  mean = image[mask].mean()\n",
      "C:\\Users\\javil\\AppData\\Local\\Temp\\ipykernel_18460\\2628064472.py:13: RuntimeWarning: invalid value encountered in cast\n",
      "  preprocessed_image = preprocessed_image.astype('uint8')\n"
     ]
    }
   ],
   "source": [
    "\n",
    "new_path = r'D:\\Jaime_Andres\\Univalle\\TESIS ULTIMA OPORTUNIDAD\\tesis_ultima_oportunidad\\DataSet\\prueba1\\DATA_BASE\\DATA_BASE_TEST\\IMAGES_PREPROCESSED_TEST\\IMAGES\\LMCI\\\\'\n",
    "names = get_names(file_path)\n",
    "\n",
    "for name in names:\n",
    "\n",
    "    clean_image = remove_noise_from_image(file_path)\n",
    "\n",
    "    final_image = add_pad(clean_image)\n",
    "    \n",
    "    normalized_image = standardization(final_image)\n",
    "\n",
    "    preprocessed_image = (normalized_image - normalized_image.min()) * (255.0 / (normalized_image.max() - normalized_image.min()))\n",
    "    preprocessed_image = preprocessed_image.astype('uint8')\n",
    "\n",
    "    preprocessed_image = Image.fromarray(preprocessed_image)\n",
    "    preprocessed_image.save(new_path + name + '.jpg')"
   ]
  }
 ],
 "metadata": {
  "kernelspec": {
   "display_name": "base",
   "language": "python",
   "name": "python3"
  },
  "language_info": {
   "codemirror_mode": {
    "name": "ipython",
    "version": 3
   },
   "file_extension": ".py",
   "mimetype": "text/x-python",
   "name": "python",
   "nbconvert_exporter": "python",
   "pygments_lexer": "ipython3",
   "version": "3.12.4"
  }
 },
 "nbformat": 4,
 "nbformat_minor": 2
}
