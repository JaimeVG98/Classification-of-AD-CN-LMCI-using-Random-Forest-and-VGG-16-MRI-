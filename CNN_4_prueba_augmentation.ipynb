{
 "cells": [
  {
   "cell_type": "code",
   "execution_count": 1,
   "metadata": {},
   "outputs": [
    {
     "name": "stderr",
     "output_type": "stream",
     "text": [
      "Using TensorFlow backend.\n"
     ]
    }
   ],
   "source": [
    "import pandas as pd\n",
    "import os\n",
    "import cv2\n",
    "import numpy as np\n",
    "import random\n",
    "import matplotlib.pyplot as plt\n",
    "import tensorflow as tensorflow\n",
    "from tensorflow import keras\n",
    "from tqdm import tqdm\n",
    "import pickle\n",
    "from keras.models import Sequential\n",
    "from keras.layers import Activation\n",
    "from keras.layers import Dense, Flatten\n",
    "from keras.optimizers import Adam\n",
    "from keras.callbacks import TensorBoard, EarlyStopping\n",
    "import keras.optimizers\n",
    "from tensorflow.keras.models import Model\n",
    "from tensorflow.keras import layers\n",
    "from sklearn.metrics import accuracy_score, confusion_matrix, classification_report, ConfusionMatrixDisplay\n",
    "from keras.applications import vgg16\n",
    "from imblearn.over_sampling import SMOTE\n",
    "from sklearn.model_selection import train_test_split\n",
    "from keras.preprocessing.image import ImageDataGenerator,load_img, img_to_array"
   ]
  },
  {
   "cell_type": "code",
   "execution_count": 2,
   "metadata": {},
   "outputs": [
    {
     "data": {
      "text/plain": [
       "'2.1.0'"
      ]
     },
     "execution_count": 2,
     "metadata": {},
     "output_type": "execute_result"
    }
   ],
   "source": [
    "tensorflow.__version__"
   ]
  },
  {
   "cell_type": "code",
   "execution_count": 3,
   "metadata": {},
   "outputs": [],
   "source": [
    "data_path_train = \"DATA_BASE\\DATA_BASE_TRAIN_LARGER\\IMAGES_PRESPROCESSED_LARGER\\CLEAN\"\n",
    "\n",
    "data_path_test = \"DATA_BASE\\DATA_BASE_TEST\\IMAGES_PREPROCESSED_TEST\\CLEAN\""
   ]
  },
  {
   "cell_type": "code",
   "execution_count": 4,
   "metadata": {},
   "outputs": [
    {
     "name": "stdout",
     "output_type": "stream",
     "text": [
      "Found 3922 images belonging to 3 classes.\n",
      "Found 840 images belonging to 3 classes.\n"
     ]
    }
   ],
   "source": [
    "def blur_image(image):\n",
    "    \n",
    "    return cv2.GaussianBlur(image, (3, 3), 0)  # Kernel size (7,7)\n",
    "\n",
    "\n",
    "train_datagen = ImageDataGenerator(\n",
    "        rescale=1./255,\n",
    "        rotation_range=10,\n",
    "        width_shift_range=0,\n",
    "        height_shift_range=0,\n",
    "        shear_range=0,\n",
    "        zoom_range=0.1,\n",
    "        horizontal_flip=False,\n",
    "        preprocessing_function=blur_image\n",
    ")\n",
    "\n",
    "test_datagen = ImageDataGenerator(rescale=1./255)\n",
    "\n",
    "train_generator = train_datagen.flow_from_directory(\n",
    "        data_path_train,\n",
    "        target_size=(224, 224),  # all images will be resized to 240x240\n",
    "        batch_size=16,\n",
    "        class_mode='categorical')  # more than two classes\n",
    "\n",
    "validation_generator = test_datagen.flow_from_directory(\n",
    "        data_path_test,\n",
    "        target_size=(224, 224),\n",
    "        batch_size=16,\n",
    "        class_mode='categorical',\n",
    "        shuffle = False\n",
    ")"
   ]
  },
  {
   "cell_type": "code",
   "execution_count": 5,
   "metadata": {},
   "outputs": [],
   "source": [
    "from tensorflow.python.client import device_lib"
   ]
  },
  {
   "cell_type": "code",
   "execution_count": 6,
   "metadata": {},
   "outputs": [
    {
     "data": {
      "text/plain": [
       "[name: \"/device:CPU:0\"\n",
       " device_type: \"CPU\"\n",
       " memory_limit: 268435456\n",
       " locality {\n",
       " }\n",
       " incarnation: 2592911642268824447,\n",
       " name: \"/device:GPU:0\"\n",
       " device_type: \"GPU\"\n",
       " memory_limit: 4963958784\n",
       " locality {\n",
       "   bus_id: 1\n",
       "   links {\n",
       "   }\n",
       " }\n",
       " incarnation: 14227203462207489475\n",
       " physical_device_desc: \"device: 0, name: NVIDIA GeForce GTX 1660 SUPER, pci bus id: 0000:01:00.0, compute capability: 7.5\"]"
      ]
     },
     "execution_count": 6,
     "metadata": {},
     "output_type": "execute_result"
    }
   ],
   "source": [
    "# List available GPU devices\n",
    "physical_devices = tensorflow.config.list_physical_devices('GPU')\n",
    "if physical_devices:\n",
    "    try:\n",
    "        # Set memory growth for the first GPU device\n",
    "        tensorflow.config.set_logical_device_configuration(\n",
    "            physical_devices[0],\n",
    "            [tensorflow.config.LogicalDeviceConfiguration(memory_limit=4096)]\n",
    "        )\n",
    "        #tensorflow.config.experimental.set_memory_growth(physical_devices[0], True)\n",
    "        #print(\"Memory growth enabled for GPU\")\n",
    "    except RuntimeError as e:\n",
    "        # Memory growth must be set before any initialization\n",
    "        print(e)\n",
    "else:\n",
    "    print(\"No GPU found\")\n",
    "\n",
    "\n",
    "# Enable GPU memory growth to avoid memory allocation errors\n",
    "physical_devices = tensorflow.config.list_physical_devices('GPU')\n",
    "#tensorflow.config.experimental.set_memory_growth(physical_devices[0], True)\n",
    "\n",
    "\n",
    "\n",
    "device_lib.list_local_devices()"
   ]
  },
  {
   "cell_type": "code",
   "execution_count": 7,
   "metadata": {},
   "outputs": [],
   "source": [
    "tensorboard = TensorBoard(log_dir='./VGG16logs', histogram_freq=0,\n",
    "                          write_graph=True, write_images=False)\n",
    "es = EarlyStopping(monitor='val_loss', mode='min', verbose=1, patience=5)"
   ]
  },
  {
   "cell_type": "code",
   "execution_count": 8,
   "metadata": {},
   "outputs": [],
   "source": [
    "from tensorflow.keras.applications import VGG16"
   ]
  },
  {
   "cell_type": "code",
   "execution_count": 9,
   "metadata": {},
   "outputs": [
    {
     "name": "stdout",
     "output_type": "stream",
     "text": [
      "Model: \"model\"\n",
      "_________________________________________________________________\n",
      "Layer (type)                 Output Shape              Param #   \n",
      "=================================================================\n",
      "input_2 (InputLayer)         [(None, 224, 224, 3)]     0         \n",
      "_________________________________________________________________\n",
      "vgg16 (Model)                (None, 7, 7, 512)         14714688  \n",
      "_________________________________________________________________\n",
      "global_average_pooling2d (Gl (None, 512)               0         \n",
      "_________________________________________________________________\n",
      "dropout (Dropout)            (None, 512)               0         \n",
      "_________________________________________________________________\n",
      "dense (Dense)                (None, 3)                 1539      \n",
      "=================================================================\n",
      "Total params: 14,716,227\n",
      "Trainable params: 1,539\n",
      "Non-trainable params: 14,714,688\n",
      "_________________________________________________________________\n",
      "<class 'tensorflow.python.keras.engine.training.Model'>\n"
     ]
    }
   ],
   "source": [
    "# Load the VGG16 base model\n",
    "vgg16_base_model = VGG16(input_shape=(224, 224, 3), include_top=False, weights='imagenet')\n",
    "vgg16_base_model.trainable = False  # Freeze the base model\n",
    "\n",
    "# Define the input layer\n",
    "inputs = tensorflow.keras.Input(shape=(224, 224, 3))\n",
    "\n",
    "# Extract features using the base model\n",
    "features_extracted = vgg16_base_model(inputs)\n",
    "\n",
    "# Apply global average pooling\n",
    "avg_pooling = layers.GlobalAveragePooling2D()(features_extracted)\n",
    "\n",
    "# Add Dropout for regularization\n",
    "dropout = layers.Dropout(0.5)(avg_pooling)\n",
    "\n",
    "# Add the final Dense layer for classification\n",
    "outputs = layers.Dense(train_generator.num_classes, activation='softmax')(dropout)\n",
    "\n",
    "# Create the final model\n",
    "final_model = Model(inputs, outputs)\n",
    "\n",
    "# Print the model summary\n",
    "final_model.summary()\n",
    "\n",
    "# Check the type of the model\n",
    "print(type(final_model))"
   ]
  },
  {
   "cell_type": "code",
   "execution_count": 10,
   "metadata": {},
   "outputs": [
    {
     "name": "stdout",
     "output_type": "stream",
     "text": [
      "Number of layers in the base model:  19\n",
      "['input_1', 'block1_conv1', 'block1_conv2', 'block1_pool', 'block2_conv1', 'block2_conv2', 'block2_pool', 'block3_conv1', 'block3_conv2', 'block3_conv3', 'block3_pool', 'block4_conv1', 'block4_conv2', 'block4_conv3', 'block4_pool', 'block5_conv1', 'block5_conv2', 'block5_conv3', 'block5_pool']\n"
     ]
    }
   ],
   "source": [
    "# how many layers are in the base model?\n",
    "print(\"Number of layers in the base model: \", len(vgg16_base_model.layers))\n",
    "\n",
    "vgg16_layers = [layer.name for layer in vgg16_base_model.layers]\n",
    "print(vgg16_layers)"
   ]
  },
  {
   "cell_type": "code",
   "execution_count": 11,
   "metadata": {},
   "outputs": [],
   "source": [
    "# swithcing on all layers to be trainable\n",
    "vgg16_base_model.trainable = True\n",
    "\n",
    "# swithcing off(freezing) all layers except the last 4 layers\n",
    "fine_tune_last = 3\n",
    "for layer in vgg16_base_model.layers[:-fine_tune_last]:\n",
    "    layer.trainable = False"
   ]
  },
  {
   "cell_type": "code",
   "execution_count": 12,
   "metadata": {},
   "outputs": [],
   "source": [
    "optimizer = tensorflow.keras.optimizers.Adam(learning_rate=1e-5)\n",
    "final_model.compile(optimizer=optimizer, loss=\"categorical_crossentropy\", metrics=['accuracy'])"
   ]
  },
  {
   "cell_type": "code",
   "execution_count": 13,
   "metadata": {},
   "outputs": [
    {
     "name": "stdout",
     "output_type": "stream",
     "text": [
      "Model: \"model\"\n",
      "_________________________________________________________________\n",
      "Layer (type)                 Output Shape              Param #   \n",
      "=================================================================\n",
      "input_2 (InputLayer)         [(None, 224, 224, 3)]     0         \n",
      "_________________________________________________________________\n",
      "vgg16 (Model)                (None, 7, 7, 512)         14714688  \n",
      "_________________________________________________________________\n",
      "global_average_pooling2d (Gl (None, 512)               0         \n",
      "_________________________________________________________________\n",
      "dropout (Dropout)            (None, 512)               0         \n",
      "_________________________________________________________________\n",
      "dense (Dense)                (None, 3)                 1539      \n",
      "=================================================================\n",
      "Total params: 14,716,227\n",
      "Trainable params: 4,721,155\n",
      "Non-trainable params: 9,995,072\n",
      "_________________________________________________________________\n"
     ]
    }
   ],
   "source": [
    "final_model.summary()"
   ]
  },
  {
   "cell_type": "code",
   "execution_count": 14,
   "metadata": {},
   "outputs": [
    {
     "name": "stdout",
     "output_type": "stream",
     "text": [
      "Model: \"vgg16\"\n",
      "_________________________________________________________________\n",
      "Layer (type)                 Output Shape              Param #   \n",
      "=================================================================\n",
      "input_1 (InputLayer)         [(None, 224, 224, 3)]     0         \n",
      "_________________________________________________________________\n",
      "block1_conv1 (Conv2D)        (None, 224, 224, 64)      1792      \n",
      "_________________________________________________________________\n",
      "block1_conv2 (Conv2D)        (None, 224, 224, 64)      36928     \n",
      "_________________________________________________________________\n",
      "block1_pool (MaxPooling2D)   (None, 112, 112, 64)      0         \n",
      "_________________________________________________________________\n",
      "block2_conv1 (Conv2D)        (None, 112, 112, 128)     73856     \n",
      "_________________________________________________________________\n",
      "block2_conv2 (Conv2D)        (None, 112, 112, 128)     147584    \n",
      "_________________________________________________________________\n",
      "block2_pool (MaxPooling2D)   (None, 56, 56, 128)       0         \n",
      "_________________________________________________________________\n",
      "block3_conv1 (Conv2D)        (None, 56, 56, 256)       295168    \n",
      "_________________________________________________________________\n",
      "block3_conv2 (Conv2D)        (None, 56, 56, 256)       590080    \n",
      "_________________________________________________________________\n",
      "block3_conv3 (Conv2D)        (None, 56, 56, 256)       590080    \n",
      "_________________________________________________________________\n",
      "block3_pool (MaxPooling2D)   (None, 28, 28, 256)       0         \n",
      "_________________________________________________________________\n",
      "block4_conv1 (Conv2D)        (None, 28, 28, 512)       1180160   \n",
      "_________________________________________________________________\n",
      "block4_conv2 (Conv2D)        (None, 28, 28, 512)       2359808   \n",
      "_________________________________________________________________\n",
      "block4_conv3 (Conv2D)        (None, 28, 28, 512)       2359808   \n",
      "_________________________________________________________________\n",
      "block4_pool (MaxPooling2D)   (None, 14, 14, 512)       0         \n",
      "_________________________________________________________________\n",
      "block5_conv1 (Conv2D)        (None, 14, 14, 512)       2359808   \n",
      "_________________________________________________________________\n",
      "block5_conv2 (Conv2D)        (None, 14, 14, 512)       2359808   \n",
      "_________________________________________________________________\n",
      "block5_conv3 (Conv2D)        (None, 14, 14, 512)       2359808   \n",
      "_________________________________________________________________\n",
      "block5_pool (MaxPooling2D)   (None, 7, 7, 512)         0         \n",
      "=================================================================\n",
      "Total params: 14,714,688\n",
      "Trainable params: 4,719,616\n",
      "Non-trainable params: 9,995,072\n",
      "_________________________________________________________________\n"
     ]
    }
   ],
   "source": [
    "vgg16_base_model.summary()"
   ]
  },
  {
   "cell_type": "code",
   "execution_count": 15,
   "metadata": {},
   "outputs": [
    {
     "name": "stdout",
     "output_type": "stream",
     "text": [
      "WARNING:tensorflow:sample_weight modes were coerced from\n",
      "  ...\n",
      "    to  \n",
      "  ['...']\n",
      "WARNING:tensorflow:sample_weight modes were coerced from\n",
      "  ...\n",
      "    to  \n",
      "  ['...']\n",
      "Train for 246 steps, validate for 53 steps\n",
      "Epoch 1/20\n",
      "246/246 [==============================] - 37s 151ms/step - loss: 1.0790 - accuracy: 0.4230 - val_loss: 1.0486 - val_accuracy: 0.4643\n",
      "Epoch 2/20\n",
      "246/246 [==============================] - 31s 124ms/step - loss: 0.9322 - accuracy: 0.5426 - val_loss: 0.9505 - val_accuracy: 0.5548\n",
      "Epoch 3/20\n",
      "246/246 [==============================] - 32s 128ms/step - loss: 0.8037 - accuracy: 0.6374 - val_loss: 0.9054 - val_accuracy: 0.5571\n",
      "Epoch 4/20\n",
      "246/246 [==============================] - 35s 142ms/step - loss: 0.6924 - accuracy: 0.7081 - val_loss: 0.9508 - val_accuracy: 0.5286\n",
      "Epoch 5/20\n",
      "246/246 [==============================] - 36s 147ms/step - loss: 0.6061 - accuracy: 0.7621 - val_loss: 0.9852 - val_accuracy: 0.5679\n",
      "Epoch 6/20\n",
      "246/246 [==============================] - 33s 135ms/step - loss: 0.5384 - accuracy: 0.7904 - val_loss: 1.0856 - val_accuracy: 0.5274\n",
      "Epoch 7/20\n",
      "246/246 [==============================] - 36s 147ms/step - loss: 0.4911 - accuracy: 0.8192 - val_loss: 0.9992 - val_accuracy: 0.5512\n",
      "Epoch 8/20\n",
      "246/246 [==============================] - 31s 125ms/step - loss: 0.4336 - accuracy: 0.8468 - val_loss: 1.1973 - val_accuracy: 0.5071\n",
      "Epoch 9/20\n",
      "246/246 [==============================] - 31s 126ms/step - loss: 0.3922 - accuracy: 0.8692 - val_loss: 1.1396 - val_accuracy: 0.5500\n",
      "Epoch 10/20\n",
      "246/246 [==============================] - 31s 127ms/step - loss: 0.3505 - accuracy: 0.8832 - val_loss: 1.1732 - val_accuracy: 0.5440\n",
      "Epoch 11/20\n",
      "246/246 [==============================] - 31s 126ms/step - loss: 0.3258 - accuracy: 0.8921 - val_loss: 1.2184 - val_accuracy: 0.5488\n",
      "Epoch 12/20\n",
      "246/246 [==============================] - 31s 126ms/step - loss: 0.2915 - accuracy: 0.9016 - val_loss: 1.4403 - val_accuracy: 0.4929\n",
      "Epoch 13/20\n",
      "246/246 [==============================] - 33s 133ms/step - loss: 0.2710 - accuracy: 0.9182 - val_loss: 1.1713 - val_accuracy: 0.5393\n",
      "Epoch 14/20\n",
      "246/246 [==============================] - 33s 132ms/step - loss: 0.2379 - accuracy: 0.9243 - val_loss: 1.3035 - val_accuracy: 0.5440\n",
      "Epoch 15/20\n",
      "246/246 [==============================] - 33s 136ms/step - loss: 0.2293 - accuracy: 0.9271 - val_loss: 1.3075 - val_accuracy: 0.5464\n",
      "Epoch 16/20\n",
      "246/246 [==============================] - 32s 130ms/step - loss: 0.2176 - accuracy: 0.9340 - val_loss: 1.3338 - val_accuracy: 0.5214\n",
      "Epoch 17/20\n",
      "246/246 [==============================] - 32s 130ms/step - loss: 0.1890 - accuracy: 0.9465 - val_loss: 1.4181 - val_accuracy: 0.5179\n",
      "Epoch 18/20\n",
      "246/246 [==============================] - 33s 135ms/step - loss: 0.1769 - accuracy: 0.9508 - val_loss: 1.5295 - val_accuracy: 0.5238\n",
      "Epoch 19/20\n",
      "246/246 [==============================] - 33s 133ms/step - loss: 0.1604 - accuracy: 0.9587 - val_loss: 1.6115 - val_accuracy: 0.5190\n",
      "Epoch 20/20\n",
      "246/246 [==============================] - 32s 130ms/step - loss: 0.1517 - accuracy: 0.9584 - val_loss: 1.6347 - val_accuracy: 0.4964\n"
     ]
    }
   ],
   "source": [
    "history_fine = final_model.fit(train_generator, epochs=20, validation_data=validation_generator)"
   ]
  },
  {
   "cell_type": "code",
   "execution_count": 16,
   "metadata": {},
   "outputs": [],
   "source": [
    "model_comparison = {}\n",
    "model_comparison[\"vgg16\"] = pd.DataFrame(history_fine.history)"
   ]
  },
  {
   "cell_type": "code",
   "execution_count": 17,
   "metadata": {},
   "outputs": [],
   "source": [
    "EPOCHS = 30\n",
    "def plot_performance(model_name, epochs = EPOCHS):\n",
    "  dataframe = model_comparison[model_name]\n",
    "  plt.figure(figsize = (12,3))\n",
    "\n",
    "  plt.subplot(1,2,1)\n",
    "  plt.plot(dataframe[[\"val_loss\", \"loss\"]])\n",
    "  plt.xticks(np.arange(0,epochs,5), np.arange(1, epochs+1,5))\n",
    "  plt.title(\"Loss\")\n",
    "  plt.legend([\"test\", \"train\"])\n",
    "\n",
    "  plt.subplot(1,2,2)\n",
    "  plt.plot(dataframe[[\"val_accuracy\", \"accuracy\"]])\n",
    "  plt.legend([\"test\", \"train\"], loc = \"lower right\")\n",
    "  plt.xticks(np.arange(0,epochs,5), np.arange(1, epochs+1,5))\n",
    "  plt.title(\"Accuracy\")"
   ]
  },
  {
   "cell_type": "code",
   "execution_count": 18,
   "metadata": {},
   "outputs": [],
   "source": [
    "fine_tune_df = pd.DataFrame(history_fine.history)\n",
    "model_comparison['vgg16_fineTuned'] = pd.concat([model_comparison['vgg16'],fine_tune_df]).reset_index()"
   ]
  },
  {
   "cell_type": "code",
   "execution_count": 19,
   "metadata": {},
   "outputs": [
    {
     "data": {
      "image/png": "[encoded data removed]",
      "text/plain": [
       "<Figure size 1200x300 with 2 Axes>"
      ]
     },
     "metadata": {},
     "output_type": "display_data"
    }
   ],
   "source": [
    "plot_performance('vgg16')"
   ]
  },
  {
   "cell_type": "code",
   "execution_count": 20,
   "metadata": {},
   "outputs": [
    {
     "name": "stdout",
     "output_type": "stream",
     "text": [
      "WARNING:tensorflow:sample_weight modes were coerced from\n",
      "  ...\n",
      "    to  \n",
      "  ['...']\n",
      "53/53 [==============================] - 6s 114ms/step - loss: 1.6347 - accuracy: 0.4964\n",
      "Test loss: 1.6347227437253646\n",
      "Test accuracy: 0.49642858\n"
     ]
    }
   ],
   "source": [
    "# Evaluate the model\n",
    "scores = final_model.evaluate(validation_generator, verbose=1)\n",
    "print('Test loss:', scores[0])\n",
    "print('Test accuracy:', scores[1])"
   ]
  },
  {
   "cell_type": "code",
   "execution_count": 21,
   "metadata": {},
   "outputs": [
    {
     "name": "stdout",
     "output_type": "stream",
     "text": [
      "53/53 [==============================] - 6s 114ms/step\n",
      "              precision    recall  f1-score   support\n",
      "\n",
      "          AD       0.49      0.89      0.63       291\n",
      "          CN       0.32      0.19      0.24       276\n",
      "        LMCI       0.70      0.38      0.50       273\n",
      "\n",
      "    accuracy                           0.50       840\n",
      "   macro avg       0.51      0.49      0.46       840\n",
      "weighted avg       0.50      0.50      0.46       840\n",
      "\n"
     ]
    }
   ],
   "source": [
    "y_pred = final_model.predict(validation_generator, verbose=1)\n",
    "y_pred_bool = np.argmax(y_pred, axis=1)\n",
    "\n",
    "# Get true labels from generator\n",
    "y_true = validation_generator.classes  # Extracts actual labels\n",
    "\n",
    "# Get class names\n",
    "class_labels = list(validation_generator.class_indices.keys())  # Maps indices to class names\n",
    "\n",
    "# Generate classification report\n",
    "print(classification_report(y_true, y_pred_bool, target_names=class_labels))"
   ]
  },
  {
   "cell_type": "code",
   "execution_count": 22,
   "metadata": {},
   "outputs": [
    {
     "data": {
      "image/png": "[encoded data removed]",
      "text/plain": [
       "<Figure size 640x480 with 2 Axes>"
      ]
     },
     "metadata": {},
     "output_type": "display_data"
    }
   ],
   "source": [
    "    # Calcular la matriz de confusión\n",
    "    cm = confusion_matrix(y_true, y_pred_bool)\n",
    "\n",
    "    # Mostrar la matriz de confusión\n",
    "\n",
    "    display_labels = [\"AD\", \"CN\", \"LMCI\"]\n",
    "    \n",
    "    # Display confusion matrix\n",
    "    disp = ConfusionMatrixDisplay(confusion_matrix=cm, display_labels=display_labels)\n",
    "    fig, ax = plt.subplots()\n",
    "\n",
    "    disp.plot(cmap=plt.cm.Blues, ax=ax)\n",
    "    plt.title('CNN ' + 'VGG16 ')\n",
    "    #plt.show()\n",
    "\n",
    "    # Save the RF confusion matrix as a JPG image\n",
    "    #plt.savefig(\"matriz_confusion_CNN_VGG16.jpg\", format=\"jpg\", bbox_inches='tight')\n",
    "    plt.show()\n",
    "    plt.close(fig)"
   ]
  },
  {
   "cell_type": "code",
   "execution_count": null,
   "metadata": {},
   "outputs": [],
   "source": []
  }
 ],
 "metadata": {
  "kernelspec": {
   "display_name": "entornoGPU1",
   "language": "python",
   "name": "python3"
  },
  "language_info": {
   "codemirror_mode": {
    "name": "ipython",
    "version": 3
   },
   "file_extension": ".py",
   "mimetype": "text/x-python",
   "name": "python",
   "nbconvert_exporter": "python",
   "pygments_lexer": "ipython3",
   "version": "3.7.12"
  }
 },
 "nbformat": 4,
 "nbformat_minor": 2
}
